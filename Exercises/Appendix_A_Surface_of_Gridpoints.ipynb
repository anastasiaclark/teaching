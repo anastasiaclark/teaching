{
 "cells": [
  {
   "cell_type": "markdown",
   "metadata": {},
   "source": [
    "# Appendix A: step by step to the generation of the lon-lat surface area array"
   ]
  },
  {
   "cell_type": "markdown",
   "metadata": {},
   "source": [
    "## Import the packages and read the temperature data"
   ]
  },
  {
   "cell_type": "code",
   "execution_count": 1,
   "metadata": {
    "collapsed": true
   },
   "outputs": [],
   "source": [
    "# Define the tools we are going to need today\n",
    "%matplotlib inline\n",
    "import matplotlib.pyplot as plt  # plotting library\n",
    "import numpy as np  # numerical library\n",
    "import xray  # NetCDF library\n",
    "import cartopy  # Plotting libary\n",
    "import cartopy.crs as ccrs  # Projections\n",
    "# Some defaults\n",
    "plt.rcParams['figure.figsize'] = (14, 5)  # Default plot size\n",
    "np.set_printoptions(threshold=20)  # avoid to print very large arrays on screen\n",
    "# The commands below are not important\n",
    "import warnings\n",
    "warnings.filterwarnings('ignore')"
   ]
  },
  {
   "cell_type": "markdown",
   "metadata": {},
   "source": [
    "We will now read the temperature variable as we did last time:"
   ]
  },
  {
   "cell_type": "code",
   "execution_count": 2,
   "metadata": {
    "collapsed": false
   },
   "outputs": [],
   "source": [
    "netcdf = xray.open_dataset('ERA-Int-Monthly-2mTemp.nc')\n",
    "t2_var = netcdf.t2m"
   ]
  },
  {
   "cell_type": "markdown",
   "metadata": {},
   "source": [
    "## \"Real\" average temperature of the Earth"
   ]
  },
  {
   "cell_type": "markdown",
   "metadata": {},
   "source": [
    "As you remember, t2_var is a multidimensional array:"
   ]
  },
  {
   "cell_type": "code",
   "execution_count": 3,
   "metadata": {
    "collapsed": false
   },
   "outputs": [
    {
     "name": "stdout",
     "output_type": "stream",
     "text": [
      "('time', 'latitude', 'longitude')\n"
     ]
    }
   ],
   "source": [
    "print(t2_var.dims)"
   ]
  },
  {
   "cell_type": "markdown",
   "metadata": {},
   "source": [
    "We have learned how to average this 3D array over time:"
   ]
  },
  {
   "cell_type": "code",
   "execution_count": 4,
   "metadata": {
    "collapsed": false
   },
   "outputs": [
    {
     "data": {
      "text/plain": [
       "<xray.DataArray 't2m' (latitude: 241, longitude: 480)>\n",
       "array([[ 257.84742927,  257.84742927,  257.84742927, ...,  257.84742927,\n",
       "         257.84742927,  257.84742927],\n",
       "       [ 257.84873041,  257.85052202,  257.85238659, ...,  257.84434462,\n",
       "         257.84589708,  257.84726713],\n",
       "       [ 257.96570388,  257.96888176,  257.97208396, ...,  257.95092107,\n",
       "         257.95588246,  257.96081546],\n",
       "       ..., \n",
       "       [ 228.64890091,  228.63534223,  228.62179977, ...,  228.69163607,\n",
       "         228.67742885,  228.66307165],\n",
       "       [ 228.35621998,  228.34951968,  228.34279101, ...,  228.36645891,\n",
       "         228.36303377,  228.35967754],\n",
       "       [ 227.47810828,  227.47810828,  227.47810828, ...,  227.47810828,\n",
       "         227.47810828,  227.47810828]])\n",
       "Coordinates:\n",
       "  * latitude   (latitude) float32 90.0 89.25 88.5 87.75 87.0 86.25 85.5 ...\n",
       "  * longitude  (longitude) float32 0.0 0.75 1.5 2.25 3.0 3.75 4.5 5.25 6.0 ..."
      ]
     },
     "execution_count": 4,
     "metadata": {},
     "output_type": "execute_result"
    }
   ],
   "source": [
    "t2_avg = t2_var.mean(dim='time')\n",
    "t2_avg"
   ]
  },
  {
   "cell_type": "markdown",
   "metadata": {},
   "source": [
    "or how to compute the total average:"
   ]
  },
  {
   "cell_type": "code",
   "execution_count": 5,
   "metadata": {
    "collapsed": false
   },
   "outputs": [
    {
     "name": "stdout",
     "output_type": "stream",
     "text": [
      "<xray.DataArray 't2m' ()>\n",
      "array(278.4124133235189)\n"
     ]
    }
   ],
   "source": [
    "print(t2_avg.mean())"
   ]
  },
  {
   "cell_type": "markdown",
   "metadata": {},
   "source": [
    "Which, as we have discussed in exercise 01, is definitely **not** the average temperature of the Earth. We are now computing a \"weight grid\" in order to take into account that the Earth is round. This quite cumbersome (but necessary) task will help us to learn a bit more about DataArrays and python."
   ]
  },
  {
   "cell_type": "markdown",
   "metadata": {},
   "source": [
    "### Create our own DataArray to do a weighted average"
   ]
  },
  {
   "cell_type": "markdown",
   "metadata": {},
   "source": [
    "First we have to define our objective: **creating a ``area`` array with dimensions ``('latitude', 'longitude')`` representing the surface area of the grid point.** Let's begin by noting that the area of a [spherical segment](https://en.wikipedia.org/wiki/Spherical_segment) between the latitudes $\\varphi_1$ and $\\varphi_2$ is:\n",
    "\n",
    "$$A_S = 2 \\pi R^2 \\left| \\sin \\varphi_2 - \\sin \\varphi_1 \\right| $$\n",
    "\n",
    "With R being the radius of the Earth (6371 km)."
   ]
  },
  {
   "cell_type": "markdown",
   "metadata": {},
   "source": [
    "### Area of spherical segments "
   ]
  },
  {
   "cell_type": "markdown",
   "metadata": {},
   "source": [
    "OK. So now we are going to compute the latitudes $\\varphi_1$ and $\\varphi_2$, which are located *in between* our data coordinates. Our latitude coordinates are:"
   ]
  },
  {
   "cell_type": "code",
   "execution_count": 6,
   "metadata": {
    "collapsed": false
   },
   "outputs": [
    {
     "data": {
      "text/plain": [
       "<xray.DataArray 'latitude' (latitude: 241)>\n",
       "array([ 90.  ,  89.25,  88.5 , ..., -88.5 , -89.25, -90.  ], dtype=float32)\n",
       "Coordinates:\n",
       "  * latitude  (latitude) float32 90.0 89.25 88.5 87.75 87.0 86.25 85.5 84.75 ...\n",
       "Attributes:\n",
       "    units: degrees_north\n",
       "    long_name: latitude"
      ]
     },
     "execution_count": 6,
     "metadata": {},
     "output_type": "execute_result"
    }
   ],
   "source": [
    "t2_avg.latitude"
   ]
  },
  {
   "cell_type": "markdown",
   "metadata": {},
   "source": [
    "But these are located in the *center* of the grid points. We need the border of those grid points: [90., 89.625, 88.875], etc. There are several ways to do this, I use the following method. First, I will use the function [np.arange](http://docs.scipy.org/doc/numpy-1.10.1/reference/generated/numpy.arange.html) in order to make an increasing array of 242 elements (as long as the latitude array + 1 element. Yes, to compute the area of **one** spherical segment, one needs **two** latitude values):"
   ]
  },
  {
   "cell_type": "code",
   "execution_count": 7,
   "metadata": {
    "collapsed": false
   },
   "outputs": [
    {
     "data": {
      "text/plain": [
       "array([  0,   1,   2, ..., 239, 240, 241])"
      ]
     },
     "execution_count": 7,
     "metadata": {},
     "output_type": "execute_result"
    }
   ],
   "source": [
    "corner_lats = np.arange(242)\n",
    "corner_lats"
   ]
  },
  {
   "cell_type": "markdown",
   "metadata": {},
   "source": [
    "Then I convert it to latitudes:"
   ]
  },
  {
   "cell_type": "code",
   "execution_count": 8,
   "metadata": {
    "collapsed": false
   },
   "outputs": [
    {
     "data": {
      "text/plain": [
       "array([-90.375, -89.625, -88.875, ...,  88.875,  89.625,  90.375])"
      ]
     },
     "execution_count": 8,
     "metadata": {},
     "output_type": "execute_result"
    }
   ],
   "source": [
    "corner_lats = corner_lats * 0.75 - 90.375\n",
    "corner_lats"
   ]
  },
  {
   "cell_type": "markdown",
   "metadata": {},
   "source": [
    "Ok, this looks good up to the poles, where the grid points should actually be half ones. For these two I will simply use the [np.clip](http://docs.scipy.org/doc/numpy/reference/generated/numpy.clip.html) function:"
   ]
  },
  {
   "cell_type": "code",
   "execution_count": 9,
   "metadata": {
    "collapsed": false
   },
   "outputs": [
    {
     "data": {
      "text/plain": [
       "array([-90.   , -89.625, -88.875, ...,  88.875,  89.625,  90.   ])"
      ]
     },
     "execution_count": 9,
     "metadata": {},
     "output_type": "execute_result"
    }
   ],
   "source": [
    "corner_lats = np.clip(corner_lats, -90, 90)\n",
    "corner_lats"
   ]
  },
  {
   "cell_type": "markdown",
   "metadata": {},
   "source": [
    "Perfect! Now I can compute the area of the spherical segment for each of my latitudes. But first, I won't forget to convert my latitudes from degrees to radians (trigonometry does not know about \"degrees\"):"
   ]
  },
  {
   "cell_type": "code",
   "execution_count": 10,
   "metadata": {
    "collapsed": true
   },
   "outputs": [],
   "source": [
    "corner_lats_deg = np.deg2rad(corner_lats)"
   ]
  },
  {
   "cell_type": "code",
   "execution_count": 11,
   "metadata": {
    "collapsed": false
   },
   "outputs": [],
   "source": [
    "area_segment = 2 * np.pi * 6371**2 * np.abs(np.sin(corner_lats_deg[1:]) - np.sin(corner_lats_deg[:-1]))"
   ]
  },
  {
   "cell_type": "markdown",
   "metadata": {},
   "source": [
    "OK, I admit, these are a lot of new commands at one time. \"``np.pi``\", \"``np.abs``\", and \"``np.sin``\" are self-explaining (or easily googled). \"``**2``\" is like Matlab's \"``.^2``\". Maybe a little less intuitive is the last part of the equation. What did I do?\n",
    "\n",
    "**E: try it out! print the value of ``corner_lats[1:]`` and corner_lats[:-1]. What is the length of our new array ``area_segment``?** (hint: python built-in function ``len()``)"
   ]
  },
  {
   "cell_type": "code",
   "execution_count": 12,
   "metadata": {
    "collapsed": false
   },
   "outputs": [],
   "source": [
    "# You're answer here"
   ]
  },
  {
   "cell_type": "markdown",
   "metadata": {},
   "source": [
    "**Q: can you think of an easy test to see if our computed segments are right?**"
   ]
  },
  {
   "cell_type": "code",
   "execution_count": 13,
   "metadata": {
    "collapsed": true
   },
   "outputs": [],
   "source": [
    "# You're answer here"
   ]
  },
  {
   "cell_type": "markdown",
   "metadata": {},
   "source": [
    "### Back to the sphere "
   ]
  },
  {
   "cell_type": "markdown",
   "metadata": {},
   "source": [
    "Now we have an array of 241 elements, each element being the area of a spherical segment on the sphere. We still need a bit of work to get to our 2D array of dimensions (241, 480). To do this there are dozens of possibilities and I struggled to pick the easiest to explain. I chose to use xray to help us out. As you have noticed, xray is \"dimensions aware\". This simply means that once we have defined the dimension and coordinates of a DataArray, xray knows what to do with it. \n",
    "\n",
    "First we will create an new DataArray of dimenstions (241, 480) full with ones. This is most easily done with a simple trick:  "
   ]
  },
  {
   "cell_type": "code",
   "execution_count": 14,
   "metadata": {
    "collapsed": false
   },
   "outputs": [
    {
     "data": {
      "text/plain": [
       "<xray.DataArray 't2m' (latitude: 241, longitude: 480)>\n",
       "array([[ 1.,  1.,  1., ...,  1.,  1.,  1.],\n",
       "       [ 1.,  1.,  1., ...,  1.,  1.,  1.],\n",
       "       [ 1.,  1.,  1., ...,  1.,  1.,  1.],\n",
       "       ..., \n",
       "       [ 1.,  1.,  1., ...,  1.,  1.,  1.],\n",
       "       [ 1.,  1.,  1., ...,  1.,  1.,  1.],\n",
       "       [ 1.,  1.,  1., ...,  1.,  1.,  1.]])\n",
       "Coordinates:\n",
       "  * latitude   (latitude) float32 90.0 89.25 88.5 87.75 87.0 86.25 85.5 ...\n",
       "  * longitude  (longitude) float32 0.0 0.75 1.5 2.25 3.0 3.75 4.5 5.25 6.0 ..."
      ]
     },
     "execution_count": 14,
     "metadata": {},
     "output_type": "execute_result"
    }
   ],
   "source": [
    "area_grid = t2_avg * 0 + 1\n",
    "area_grid"
   ]
  },
  {
   "cell_type": "markdown",
   "metadata": {},
   "source": [
    "We are now telling xray that our array ``area_segment`` has the same latitude coordinates as our temperature array:"
   ]
  },
  {
   "cell_type": "code",
   "execution_count": 15,
   "metadata": {
    "collapsed": false
   },
   "outputs": [
    {
     "data": {
      "text/plain": [
       "<xray.DataArray (latitude: 241)>\n",
       "array([  5462.36608756,  43697.52477304,  87387.56220012, ...,\n",
       "        87387.56220012,  43697.52477304,   5462.36608756])\n",
       "Coordinates:\n",
       "  * latitude  (latitude) float32 90.0 89.25 88.5 87.75 87.0 86.25 85.5 84.75 ..."
      ]
     },
     "execution_count": 15,
     "metadata": {},
     "output_type": "execute_result"
    }
   ],
   "source": [
    "area_segment_xray = \n",
    "area_segment_xray"
   ]
  },
  {
   "cell_type": "markdown",
   "metadata": {},
   "source": [
    "When we multiply the two, xray knows what to do:"
   ]
  },
  {
   "cell_type": "code",
   "execution_count": 16,
   "metadata": {
    "collapsed": true
   },
   "outputs": [],
   "source": [
    "area_grid = area_grid * area_segment_xray"
   ]
  },
  {
   "cell_type": "code",
   "execution_count": 17,
   "metadata": {
    "collapsed": false
   },
   "outputs": [
    {
     "data": {
      "image/png": "[encoded data removed]",
      "text/plain": [
       "<matplotlib.figure.Figure at 0x7ff4a7366ba8>"
      ]
     },
     "metadata": {},
     "output_type": "display_data"
    }
   ],
   "source": [
    "area_grid.plot();"
   ]
  },
  {
   "cell_type": "markdown",
   "metadata": {},
   "source": [
    "OK! Now a last important detail: each pixel contains the area of an *entire* spherical segment! We simply have to divide this value by the number of longitude points to get the result we are looking for:"
   ]
  },
  {
   "cell_type": "code",
   "execution_count": 18,
   "metadata": {
    "collapsed": true
   },
   "outputs": [],
   "source": [
    "area_grid = area_grid / 480"
   ]
  },
  {
   "cell_type": "markdown",
   "metadata": {},
   "source": [
    "### Final test"
   ]
  },
  {
   "cell_type": "markdown",
   "metadata": {},
   "source": [
    "To see if everything went well, we simply need to check that the sum of our pixels is indeed equal to the area of the Earth:"
   ]
  },
  {
   "cell_type": "code",
   "execution_count": 19,
   "metadata": {
    "collapsed": false
   },
   "outputs": [
    {
     "name": "stdout",
     "output_type": "stream",
     "text": [
      "Our area:  510064471.9097883\n",
      "Earth area:  510064471.90978825\n"
     ]
    }
   ],
   "source": [
    "print(\"Our area: \", area_grid.sum().values)\n",
    "print(\"Earth area: \", 4 * np.pi * 6371**2)"
   ]
  },
  {
   "cell_type": "code",
   "execution_count": null,
   "metadata": {
    "collapsed": true
   },
   "outputs": [],
   "source": []
  }
 ],
 "metadata": {
  "kernelspec": {
   "display_name": "Python 3",
   "language": "python",
   "name": "python3"
  },
  "language_info": {
   "codemirror_mode": {
    "name": "ipython",
    "version": 3
   },
   "file_extension": ".py",
   "mimetype": "text/x-python",
   "name": "python",
   "nbconvert_exporter": "python",
   "pygments_lexer": "ipython3",
   "version": "3.4.3"
  }
 },
 "nbformat": 4,
 "nbformat_minor": 0
}
