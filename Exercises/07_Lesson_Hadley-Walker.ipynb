{
 "cells": [
  {
   "cell_type": "markdown",
   "metadata": {},
   "source": [
    "# Lesson 07: Hadley and Walker circulations, integration"
   ]
  },
  {
   "cell_type": "markdown",
   "metadata": {},
   "source": [
    "The last exercise was dedicated to the derivation of atmospheric data fields. In Lesson 05 we computed the geostrophic wind out of the geopotential field. In Exercise 06 we computed the Ekman pumping due to wind stress over the oceans. Today we will learn how to integrate over an atmospheric column and use this new tool to compute the stream functions of the Hadley and Walker circulations."
   ]
  },
  {
   "cell_type": "markdown",
   "metadata": {},
   "source": [
    "## Import the packages"
   ]
  },
  {
   "cell_type": "markdown",
   "metadata": {},
   "source": [
    "This did not change:"
   ]
  },
  {
   "cell_type": "code",
   "execution_count": 1,
   "metadata": {
    "collapsed": true
   },
   "outputs": [],
   "source": [
    "# Define the tools we are going to need today\n",
    "%matplotlib inline\n",
    "import matplotlib.pyplot as plt  # plotting library\n",
    "import numpy as np  # numerical library\n",
    "import xray  # NetCDF library\n",
    "import cartopy  # Plotting libary\n",
    "import cartopy.crs as ccrs  # Projections\n",
    "# Some defaults\n",
    "plt.rcParams['figure.figsize'] = (14, 5)  # Default plot size\n",
    "np.set_printoptions(threshold=20)  # avoid to print very large arrays on screen\n",
    "# The commands below are not important\n",
    "import warnings\n",
    "warnings.filterwarnings('ignore')"
   ]
  },
  {
   "cell_type": "markdown",
   "metadata": {},
   "source": [
    "## For loops in python "
   ]
  },
  {
   "cell_type": "markdown",
   "metadata": {},
   "source": [
    "Until today we have not used a single for loop for our exercises. This is because numpy is made to work with multi-dimensional arrays without having to apply operations over array elements. For today's lesson however we will need one for loop, and you will also need them in your future work if you choose python as your language of choice (which I strongly recommend of course). "
   ]
  },
  {
   "cell_type": "markdown",
   "metadata": {},
   "source": [
    "For loops are a bit different (and better) in python than in Matlab. It is best explained with an example:"
   ]
  },
  {
   "cell_type": "code",
   "execution_count": 2,
   "metadata": {
    "collapsed": false
   },
   "outputs": [
    {
     "name": "stdout",
     "output_type": "stream",
     "text": [
      "1\n",
      "2\n",
      "three\n",
      "4\n",
      "end\n"
     ]
    }
   ],
   "source": [
    "alist = [1, 2, 'three', 4, 'end']\n",
    "for element in alist:\n",
    "    print(element)"
   ]
  },
  {
   "cell_type": "markdown",
   "metadata": {},
   "source": [
    "In python loops, there is no index (the famous \"i\" in many programming languages). The \"i\" is not necessary because python's `for` loop is executed *over the elements* of the list. Some languages implement this syntax under the name \"foreach\" (\"for each element in list: do something\").\n",
    "\n",
    "Note the blank spaces before \"print()\". In python the spacing (it's called \"[indentation](http://www.python-course.eu/python3_blocks.php)\") is important!\n",
    "\n",
    "Let's study a couple of further examples:"
   ]
  },
  {
   "cell_type": "code",
   "execution_count": null,
   "metadata": {
    "collapsed": false
   },
   "outputs": [],
   "source": [
    "text = 'Hello!'\n",
    "for letter in text:\n",
    "    print(letter)"
   ]
  },
  {
   "cell_type": "code",
   "execution_count": null,
   "metadata": {
    "collapsed": false
   },
   "outputs": [],
   "source": [
    "for i in range(5):\n",
    "    print(i)"
   ]
  },
  {
   "cell_type": "code",
   "execution_count": null,
   "metadata": {
    "collapsed": false
   },
   "outputs": [],
   "source": [
    "for i in range(len(text)):\n",
    "    print(text[i])"
   ]
  },
  {
   "cell_type": "markdown",
   "metadata": {},
   "source": [
    "Python for loops can also work like Matlab ones, with an \"i\". But most of the times, the \"i\" index is not necessary. If you think you need an \"i\", it is *probable* that you could also do it without it.\n",
    "\n",
    "Now lets have a look at a 2D array:"
   ]
  },
  {
   "cell_type": "code",
   "execution_count": 3,
   "metadata": {
    "collapsed": false
   },
   "outputs": [
    {
     "name": "stdout",
     "output_type": "stream",
     "text": [
      "[[ 1  2  3  4]\n",
      " [ 5  6  7  8]\n",
      " [ 9 10 11 12]]\n"
     ]
    }
   ],
   "source": [
    "a = np.array([[1,2,3,4], [5,6,7,8], [9,10,11,12]])\n",
    "print(a)"
   ]
  },
  {
   "cell_type": "code",
   "execution_count": 4,
   "metadata": {
    "collapsed": false
   },
   "outputs": [
    {
     "name": "stdout",
     "output_type": "stream",
     "text": [
      "(3, 4)\n"
     ]
    }
   ],
   "source": [
    "print(a.shape)"
   ]
  },
  {
   "cell_type": "markdown",
   "metadata": {},
   "source": [
    "The array \"a\" has three rows and 4 columns. What will the following do?"
   ]
  },
  {
   "cell_type": "code",
   "execution_count": 5,
   "metadata": {
    "collapsed": false
   },
   "outputs": [
    {
     "name": "stdout",
     "output_type": "stream",
     "text": [
      "[1 2 3 4]\n",
      "[5 6 7 8]\n",
      "[ 9 10 11 12]\n"
     ]
    }
   ],
   "source": [
    "for row in a:\n",
    "    print(row)"
   ]
  },
  {
   "cell_type": "markdown",
   "metadata": {},
   "source": [
    "And the following?"
   ]
  },
  {
   "cell_type": "code",
   "execution_count": 6,
   "metadata": {
    "collapsed": false
   },
   "outputs": [
    {
     "name": "stdout",
     "output_type": "stream",
     "text": [
      "1\n",
      "2\n",
      "3\n",
      "4\n",
      "5\n",
      "6\n",
      "7\n",
      "8\n",
      "9\n",
      "10\n",
      "11\n",
      "12\n"
     ]
    }
   ],
   "source": [
    "for row in a:\n",
    "    for column in row:\n",
    "        print(column)"
   ]
  },
  {
   "cell_type": "markdown",
   "metadata": {},
   "source": [
    "What will the following do?"
   ]
  },
  {
   "cell_type": "code",
   "execution_count": 7,
   "metadata": {
    "collapsed": false
   },
   "outputs": [
    {
     "name": "stdout",
     "output_type": "stream",
     "text": [
      "0 [1 2 3 4] [1 2 3 4]\n",
      "1 [5 6 7 8] [5 6 7 8]\n",
      "2 [ 9 10 11 12] [ 9 10 11 12]\n"
     ]
    }
   ],
   "source": [
    "for i, row in enumerate(a):\n",
    "    print(i, row, a[i])"
   ]
  },
  {
   "cell_type": "markdown",
   "metadata": {},
   "source": [
    "We will now compute the cumulative sum of all elements of a row in a:"
   ]
  },
  {
   "cell_type": "code",
   "execution_count": 8,
   "metadata": {
    "collapsed": false
   },
   "outputs": [
    {
     "data": {
      "text/plain": [
       "array([[ 1,  3,  6, 10],\n",
       "       [ 5, 11, 18, 26],\n",
       "       [ 9, 19, 30, 42]])"
      ]
     },
     "execution_count": 8,
     "metadata": {},
     "output_type": "execute_result"
    }
   ],
   "source": [
    "for i, row in enumerate(a):\n",
    "    a[i] = np.cumsum(row)\n",
    "a"
   ]
  },
  {
   "cell_type": "markdown",
   "metadata": {},
   "source": [
    "OK, that's enough for loops for today. Let's go back to our reanaysis data first!"
   ]
  },
  {
   "cell_type": "markdown",
   "metadata": {},
   "source": [
    "## Read the data"
   ]
  },
  {
   "cell_type": "markdown",
   "metadata": {},
   "source": [
    "Today we are going to use the upper-level atmospheric data we used last week: ``ERA-Int-MonthlyAvg-4D-UVWZ.nc``. You will find it on OLAT or in the scratch directory(``/scratch/c707/c7071047/data``). Open the file and explore it."
   ]
  },
  {
   "cell_type": "code",
   "execution_count": 9,
   "metadata": {
    "collapsed": false
   },
   "outputs": [],
   "source": [
    "netcdf = xray.open_dataset('./data/ERA-Int-MonthlyAvg-4D-UVWZ.nc')"
   ]
  },
  {
   "cell_type": "markdown",
   "metadata": {},
   "source": [
    "## Vertical velocity"
   ]
  },
  {
   "cell_type": "markdown",
   "metadata": {},
   "source": [
    "**E: compute the annual average of the vertical component of the wind. Plot the 500hPa level on a map.**\n",
    "\n",
    "**Q: discuss the features of the plot. Order of magnitude of w in comparison to u and v? Where are the largest velocities? Look at the sign of w in the tropics and the subtropics. Does it make sense?**"
   ]
  },
  {
   "cell_type": "code",
   "execution_count": 10,
   "metadata": {
    "collapsed": true
   },
   "outputs": [],
   "source": [
    "w = - netcdf.w.mean(dim='month')"
   ]
  },
  {
   "cell_type": "code",
   "execution_count": 11,
   "metadata": {
    "collapsed": false
   },
   "outputs": [
    {
     "ename": "AttributeError",
     "evalue": "Unknown property aspect",
     "output_type": "error",
     "traceback": [
      "\u001b[1;31m---------------------------------------------------------------------------\u001b[0m",
      "\u001b[1;31mAttributeError\u001b[0m                            Traceback (most recent call last)",
      "\u001b[1;32m<ipython-input-11-4209d2d5fb33>\u001b[0m in \u001b[0;36m<module>\u001b[1;34m()\u001b[0m\n\u001b[0;32m      1\u001b[0m \u001b[0max\u001b[0m \u001b[1;33m=\u001b[0m \u001b[0mplt\u001b[0m\u001b[1;33m.\u001b[0m\u001b[0maxes\u001b[0m\u001b[1;33m(\u001b[0m\u001b[0mprojection\u001b[0m\u001b[1;33m=\u001b[0m\u001b[0mccrs\u001b[0m\u001b[1;33m.\u001b[0m\u001b[0mRobinson\u001b[0m\u001b[1;33m(\u001b[0m\u001b[1;33m)\u001b[0m\u001b[1;33m)\u001b[0m\u001b[1;33m\u001b[0m\u001b[0m\n\u001b[1;32m----> 2\u001b[1;33m \u001b[0mw\u001b[0m\u001b[1;33m.\u001b[0m\u001b[0msel\u001b[0m\u001b[1;33m(\u001b[0m\u001b[0mlevel\u001b[0m\u001b[1;33m=\u001b[0m\u001b[1;36m900\u001b[0m\u001b[1;33m)\u001b[0m\u001b[1;33m.\u001b[0m\u001b[0mplot\u001b[0m\u001b[1;33m(\u001b[0m\u001b[0max\u001b[0m\u001b[1;33m=\u001b[0m\u001b[0max\u001b[0m\u001b[1;33m,\u001b[0m \u001b[0morigin\u001b[0m\u001b[1;33m=\u001b[0m\u001b[1;34m'upper'\u001b[0m\u001b[1;33m,\u001b[0m \u001b[0maspect\u001b[0m\u001b[1;33m=\u001b[0m\u001b[1;34m'equal'\u001b[0m\u001b[1;33m,\u001b[0m \u001b[0mtransform\u001b[0m\u001b[1;33m=\u001b[0m\u001b[0mccrs\u001b[0m\u001b[1;33m.\u001b[0m\u001b[0mPlateCarree\u001b[0m\u001b[1;33m(\u001b[0m\u001b[1;33m)\u001b[0m\u001b[1;33m,\u001b[0m \u001b[0mvmin\u001b[0m\u001b[1;33m=\u001b[0m\u001b[1;33m-\u001b[0m\u001b[1;36m0.2\u001b[0m\u001b[1;33m,\u001b[0m \u001b[0mvmax\u001b[0m\u001b[1;33m=\u001b[0m\u001b[1;36m0.2\u001b[0m\u001b[1;33m)\u001b[0m\u001b[1;33m\u001b[0m\u001b[0m\n\u001b[0m\u001b[0;32m      3\u001b[0m \u001b[0max\u001b[0m\u001b[1;33m.\u001b[0m\u001b[0mcoastlines\u001b[0m\u001b[1;33m(\u001b[0m\u001b[1;33m)\u001b[0m\u001b[1;33m;\u001b[0m\u001b[1;33m\u001b[0m\u001b[0m\n",
      "\u001b[1;32m/home/mowglie/.pyvirtualenvs/py3/lib/python3.4/site-packages/xray/plot/plot.py\u001b[0m in \u001b[0;36m__call__\u001b[1;34m(self, **kwargs)\u001b[0m\n\u001b[0;32m    244\u001b[0m \u001b[1;33m\u001b[0m\u001b[0m\n\u001b[0;32m    245\u001b[0m     \u001b[1;32mdef\u001b[0m \u001b[0m__call__\u001b[0m\u001b[1;33m(\u001b[0m\u001b[0mself\u001b[0m\u001b[1;33m,\u001b[0m \u001b[1;33m**\u001b[0m\u001b[0mkwargs\u001b[0m\u001b[1;33m)\u001b[0m\u001b[1;33m:\u001b[0m\u001b[1;33m\u001b[0m\u001b[0m\n\u001b[1;32m--> 246\u001b[1;33m         \u001b[1;32mreturn\u001b[0m \u001b[0mplot\u001b[0m\u001b[1;33m(\u001b[0m\u001b[0mself\u001b[0m\u001b[1;33m.\u001b[0m\u001b[0m_da\u001b[0m\u001b[1;33m,\u001b[0m \u001b[1;33m**\u001b[0m\u001b[0mkwargs\u001b[0m\u001b[1;33m)\u001b[0m\u001b[1;33m\u001b[0m\u001b[0m\n\u001b[0m\u001b[0;32m    247\u001b[0m \u001b[1;33m\u001b[0m\u001b[0m\n\u001b[0;32m    248\u001b[0m     \u001b[1;33m@\u001b[0m\u001b[0mfunctools\u001b[0m\u001b[1;33m.\u001b[0m\u001b[0mwraps\u001b[0m\u001b[1;33m(\u001b[0m\u001b[0mhist\u001b[0m\u001b[1;33m)\u001b[0m\u001b[1;33m\u001b[0m\u001b[0m\n",
      "\u001b[1;32m/home/mowglie/.pyvirtualenvs/py3/lib/python3.4/site-packages/xray/plot/plot.py\u001b[0m in \u001b[0;36mplot\u001b[1;34m(darray, row, col, col_wrap, ax, rtol, subplot_kws, **kwargs)\u001b[0m\n\u001b[0;32m    122\u001b[0m     \u001b[0mkwargs\u001b[0m\u001b[1;33m[\u001b[0m\u001b[1;34m'ax'\u001b[0m\u001b[1;33m]\u001b[0m \u001b[1;33m=\u001b[0m \u001b[0max\u001b[0m\u001b[1;33m\u001b[0m\u001b[0m\n\u001b[0;32m    123\u001b[0m \u001b[1;33m\u001b[0m\u001b[0m\n\u001b[1;32m--> 124\u001b[1;33m     \u001b[1;32mreturn\u001b[0m \u001b[0mplotfunc\u001b[0m\u001b[1;33m(\u001b[0m\u001b[0mdarray\u001b[0m\u001b[1;33m,\u001b[0m \u001b[1;33m**\u001b[0m\u001b[0mkwargs\u001b[0m\u001b[1;33m)\u001b[0m\u001b[1;33m\u001b[0m\u001b[0m\n\u001b[0m\u001b[0;32m    125\u001b[0m \u001b[1;33m\u001b[0m\u001b[0m\n\u001b[0;32m    126\u001b[0m \u001b[1;33m\u001b[0m\u001b[0m\n",
      "\u001b[1;32m/home/mowglie/.pyvirtualenvs/py3/lib/python3.4/site-packages/xray/plot/plot.py\u001b[0m in \u001b[0;36mnewplotfunc\u001b[1;34m(darray, x, y, ax, row, col, col_wrap, xincrease, yincrease, add_colorbar, add_labels, vmin, vmax, cmap, center, robust, extend, levels, colors, subplot_kws, **kwargs)\u001b[0m\n\u001b[0;32m    415\u001b[0m                                  \u001b[0mvmin\u001b[0m\u001b[1;33m=\u001b[0m\u001b[0mcmap_params\u001b[0m\u001b[1;33m[\u001b[0m\u001b[1;34m'vmin'\u001b[0m\u001b[1;33m]\u001b[0m\u001b[1;33m,\u001b[0m\u001b[1;33m\u001b[0m\u001b[0m\n\u001b[0;32m    416\u001b[0m                                  \u001b[0mvmax\u001b[0m\u001b[1;33m=\u001b[0m\u001b[0mcmap_params\u001b[0m\u001b[1;33m[\u001b[0m\u001b[1;34m'vmax'\u001b[0m\u001b[1;33m]\u001b[0m\u001b[1;33m,\u001b[0m\u001b[1;33m\u001b[0m\u001b[0m\n\u001b[1;32m--> 417\u001b[1;33m                                  **kwargs)\n\u001b[0m\u001b[0;32m    418\u001b[0m \u001b[1;33m\u001b[0m\u001b[0m\n\u001b[0;32m    419\u001b[0m         \u001b[1;31m# Label the plot with metadata\u001b[0m\u001b[1;33m\u001b[0m\u001b[1;33m\u001b[0m\u001b[0m\n",
      "\u001b[1;32m/home/mowglie/.pyvirtualenvs/py3/lib/python3.4/site-packages/xray/plot/plot.py\u001b[0m in \u001b[0;36mpcolormesh\u001b[1;34m(x, y, z, ax, **kwargs)\u001b[0m\n\u001b[0;32m    545\u001b[0m     \u001b[0my\u001b[0m \u001b[1;33m=\u001b[0m \u001b[0m_infer_interval_breaks\u001b[0m\u001b[1;33m(\u001b[0m\u001b[0my\u001b[0m\u001b[1;33m)\u001b[0m\u001b[1;33m\u001b[0m\u001b[0m\n\u001b[0;32m    546\u001b[0m \u001b[1;33m\u001b[0m\u001b[0m\n\u001b[1;32m--> 547\u001b[1;33m     \u001b[0mprimitive\u001b[0m \u001b[1;33m=\u001b[0m \u001b[0max\u001b[0m\u001b[1;33m.\u001b[0m\u001b[0mpcolormesh\u001b[0m\u001b[1;33m(\u001b[0m\u001b[0mx\u001b[0m\u001b[1;33m,\u001b[0m \u001b[0my\u001b[0m\u001b[1;33m,\u001b[0m \u001b[0mz\u001b[0m\u001b[1;33m,\u001b[0m \u001b[1;33m**\u001b[0m\u001b[0mkwargs\u001b[0m\u001b[1;33m)\u001b[0m\u001b[1;33m\u001b[0m\u001b[0m\n\u001b[0m\u001b[0;32m    548\u001b[0m \u001b[1;33m\u001b[0m\u001b[0m\n\u001b[0;32m    549\u001b[0m     \u001b[1;31m# by default, pcolormesh picks \"round\" values for bounds\u001b[0m\u001b[1;33m\u001b[0m\u001b[1;33m\u001b[0m\u001b[0m\n",
      "\u001b[1;32m/home/mowglie/.pyvirtualenvs/py3/lib/python3.4/site-packages/cartopy/mpl/geoaxes.py\u001b[0m in \u001b[0;36mpcolormesh\u001b[1;34m(self, *args, **kwargs)\u001b[0m\n\u001b[0;32m   1132\u001b[0m                              ' consider using PlateCarree/RotatedPole.')\n\u001b[0;32m   1133\u001b[0m         \u001b[0mkwargs\u001b[0m\u001b[1;33m.\u001b[0m\u001b[0msetdefault\u001b[0m\u001b[1;33m(\u001b[0m\u001b[1;34m'transform'\u001b[0m\u001b[1;33m,\u001b[0m \u001b[0mt\u001b[0m\u001b[1;33m)\u001b[0m\u001b[1;33m\u001b[0m\u001b[0m\n\u001b[1;32m-> 1134\u001b[1;33m         \u001b[0mresult\u001b[0m \u001b[1;33m=\u001b[0m \u001b[0mself\u001b[0m\u001b[1;33m.\u001b[0m\u001b[0m_pcolormesh_patched\u001b[0m\u001b[1;33m(\u001b[0m\u001b[1;33m*\u001b[0m\u001b[0margs\u001b[0m\u001b[1;33m,\u001b[0m \u001b[1;33m**\u001b[0m\u001b[0mkwargs\u001b[0m\u001b[1;33m)\u001b[0m\u001b[1;33m\u001b[0m\u001b[0m\n\u001b[0m\u001b[0;32m   1135\u001b[0m         \u001b[0mself\u001b[0m\u001b[1;33m.\u001b[0m\u001b[0mautoscale_view\u001b[0m\u001b[1;33m(\u001b[0m\u001b[1;33m)\u001b[0m\u001b[1;33m\u001b[0m\u001b[0m\n\u001b[0;32m   1136\u001b[0m         \u001b[1;32mreturn\u001b[0m \u001b[0mresult\u001b[0m\u001b[1;33m\u001b[0m\u001b[0m\n",
      "\u001b[1;32m/home/mowglie/.pyvirtualenvs/py3/lib/python3.4/site-packages/cartopy/mpl/geoaxes.py\u001b[0m in \u001b[0;36m_pcolormesh_patched\u001b[1;34m(self, *args, **kwargs)\u001b[0m\n\u001b[0;32m   1190\u001b[0m         collection = mcoll.QuadMesh(\n\u001b[0;32m   1191\u001b[0m             \u001b[0mNx\u001b[0m \u001b[1;33m-\u001b[0m \u001b[1;36m1\u001b[0m\u001b[1;33m,\u001b[0m \u001b[0mNy\u001b[0m \u001b[1;33m-\u001b[0m \u001b[1;36m1\u001b[0m\u001b[1;33m,\u001b[0m \u001b[0mcoords\u001b[0m\u001b[1;33m,\u001b[0m\u001b[1;33m\u001b[0m\u001b[0m\n\u001b[1;32m-> 1192\u001b[1;33m             antialiased=antialiased, shading=shading, **kwargs)\n\u001b[0m\u001b[0;32m   1193\u001b[0m         \u001b[0mcollection\u001b[0m\u001b[1;33m.\u001b[0m\u001b[0mset_alpha\u001b[0m\u001b[1;33m(\u001b[0m\u001b[0malpha\u001b[0m\u001b[1;33m)\u001b[0m\u001b[1;33m\u001b[0m\u001b[0m\n\u001b[0;32m   1194\u001b[0m         \u001b[0mcollection\u001b[0m\u001b[1;33m.\u001b[0m\u001b[0mset_array\u001b[0m\u001b[1;33m(\u001b[0m\u001b[0mC\u001b[0m\u001b[1;33m)\u001b[0m\u001b[1;33m\u001b[0m\u001b[0m\n",
      "\u001b[1;32m/home/mowglie/.pyvirtualenvs/py3/lib/python3.4/site-packages/matplotlib/collections.py\u001b[0m in \u001b[0;36m__init__\u001b[1;34m(self, meshWidth, meshHeight, coordinates, antialiased, shading, **kwargs)\u001b[0m\n\u001b[0;32m   1730\u001b[0m     def __init__(self, meshWidth, meshHeight, coordinates,\n\u001b[0;32m   1731\u001b[0m                  antialiased=True, shading='flat', **kwargs):\n\u001b[1;32m-> 1732\u001b[1;33m         \u001b[0mCollection\u001b[0m\u001b[1;33m.\u001b[0m\u001b[0m__init__\u001b[0m\u001b[1;33m(\u001b[0m\u001b[0mself\u001b[0m\u001b[1;33m,\u001b[0m \u001b[1;33m**\u001b[0m\u001b[0mkwargs\u001b[0m\u001b[1;33m)\u001b[0m\u001b[1;33m\u001b[0m\u001b[0m\n\u001b[0m\u001b[0;32m   1733\u001b[0m         \u001b[0mself\u001b[0m\u001b[1;33m.\u001b[0m\u001b[0m_meshWidth\u001b[0m \u001b[1;33m=\u001b[0m \u001b[0mmeshWidth\u001b[0m\u001b[1;33m\u001b[0m\u001b[0m\n\u001b[0;32m   1734\u001b[0m         \u001b[0mself\u001b[0m\u001b[1;33m.\u001b[0m\u001b[0m_meshHeight\u001b[0m \u001b[1;33m=\u001b[0m \u001b[0mmeshHeight\u001b[0m\u001b[1;33m\u001b[0m\u001b[0m\n",
      "\u001b[1;32m/home/mowglie/.pyvirtualenvs/py3/lib/python3.4/site-packages/matplotlib/collections.py\u001b[0m in \u001b[0;36m__init__\u001b[1;34m(self, edgecolors, facecolors, linewidths, linestyles, antialiaseds, offsets, transOffset, norm, cmap, pickradius, hatch, urls, offset_position, zorder, **kwargs)\u001b[0m\n\u001b[0;32m    137\u001b[0m \u001b[1;33m\u001b[0m\u001b[0m\n\u001b[0;32m    138\u001b[0m         \u001b[0mself\u001b[0m\u001b[1;33m.\u001b[0m\u001b[0m_path_effects\u001b[0m \u001b[1;33m=\u001b[0m \u001b[1;32mNone\u001b[0m\u001b[1;33m\u001b[0m\u001b[0m\n\u001b[1;32m--> 139\u001b[1;33m         \u001b[0mself\u001b[0m\u001b[1;33m.\u001b[0m\u001b[0mupdate\u001b[0m\u001b[1;33m(\u001b[0m\u001b[0mkwargs\u001b[0m\u001b[1;33m)\u001b[0m\u001b[1;33m\u001b[0m\u001b[0m\n\u001b[0m\u001b[0;32m    140\u001b[0m         \u001b[0mself\u001b[0m\u001b[1;33m.\u001b[0m\u001b[0m_paths\u001b[0m \u001b[1;33m=\u001b[0m \u001b[1;32mNone\u001b[0m\u001b[1;33m\u001b[0m\u001b[0m\n\u001b[0;32m    141\u001b[0m \u001b[1;33m\u001b[0m\u001b[0m\n",
      "\u001b[1;32m/home/mowglie/.pyvirtualenvs/py3/lib/python3.4/site-packages/matplotlib/artist.py\u001b[0m in \u001b[0;36mupdate\u001b[1;34m(self, props)\u001b[0m\n\u001b[0;32m    854\u001b[0m                 \u001b[0mfunc\u001b[0m \u001b[1;33m=\u001b[0m \u001b[0mgetattr\u001b[0m\u001b[1;33m(\u001b[0m\u001b[0mself\u001b[0m\u001b[1;33m,\u001b[0m \u001b[1;34m'set_'\u001b[0m \u001b[1;33m+\u001b[0m \u001b[0mk\u001b[0m\u001b[1;33m,\u001b[0m \u001b[1;32mNone\u001b[0m\u001b[1;33m)\u001b[0m\u001b[1;33m\u001b[0m\u001b[0m\n\u001b[0;32m    855\u001b[0m                 \u001b[1;32mif\u001b[0m \u001b[0mfunc\u001b[0m \u001b[1;32mis\u001b[0m \u001b[1;32mNone\u001b[0m \u001b[1;32mor\u001b[0m \u001b[1;32mnot\u001b[0m \u001b[0msix\u001b[0m\u001b[1;33m.\u001b[0m\u001b[0mcallable\u001b[0m\u001b[1;33m(\u001b[0m\u001b[0mfunc\u001b[0m\u001b[1;33m)\u001b[0m\u001b[1;33m:\u001b[0m\u001b[1;33m\u001b[0m\u001b[0m\n\u001b[1;32m--> 856\u001b[1;33m                     \u001b[1;32mraise\u001b[0m \u001b[0mAttributeError\u001b[0m\u001b[1;33m(\u001b[0m\u001b[1;34m'Unknown property %s'\u001b[0m \u001b[1;33m%\u001b[0m \u001b[0mk\u001b[0m\u001b[1;33m)\u001b[0m\u001b[1;33m\u001b[0m\u001b[0m\n\u001b[0m\u001b[0;32m    857\u001b[0m                 \u001b[0mfunc\u001b[0m\u001b[1;33m(\u001b[0m\u001b[0mv\u001b[0m\u001b[1;33m)\u001b[0m\u001b[1;33m\u001b[0m\u001b[0m\n\u001b[0;32m    858\u001b[0m             \u001b[0mchanged\u001b[0m \u001b[1;33m=\u001b[0m \u001b[1;32mTrue\u001b[0m\u001b[1;33m\u001b[0m\u001b[0m\n",
      "\u001b[1;31mAttributeError\u001b[0m: Unknown property aspect"
     ]
    },
    {
     "data": {
      "image/png": "[encoded data removed]",
      "text/plain": [
       "<matplotlib.figure.Figure at 0x7fc2de47c550>"
      ]
     },
     "metadata": {},
     "output_type": "display_data"
    }
   ],
   "source": [
    "ax = plt.axes(projection=ccrs.Robinson())\n",
    "w.sel(level=900).plot(ax=ax, origin='upper', aspect='equal', transform=ccrs.PlateCarree(), vmin=-0.2, vmax=0.2) \n",
    "ax.coastlines();"
   ]
  },
  {
   "cell_type": "markdown",
   "metadata": {},
   "source": [
    "**E: multiply w by -1 to make positive velocities point upwards. Plot the 850hPa level on a map with the vmin=-0.2 and vmax=0.2 keywords. Can you try to explain the negative w velocities over the ice sheets (this was not treated in the course)? Some features are expected such as the ITCZ, but some are strange. What can you say about the w field in general?**"
   ]
  },
  {
   "cell_type": "markdown",
   "metadata": {},
   "source": [
    "## Zonal averages of the meridional and vertical wind components"
   ]
  },
  {
   "cell_type": "markdown",
   "metadata": {},
   "source": [
    "Let's compute the zonal averages of the meridional and vertical components of the wind:"
   ]
  },
  {
   "cell_type": "code",
   "execution_count": null,
   "metadata": {
    "collapsed": false
   },
   "outputs": [],
   "source": [
    "v = netcdf.v.mean(dim=['month', 'longitude'])\n",
    "w = - netcdf.w.mean(dim=['month', 'longitude'])"
   ]
  },
  {
   "cell_type": "markdown",
   "metadata": {},
   "source": [
    "**E: make a countour plot (.plot.contourf()) of v and w. Be sure that the vertical levels showing upwards (plt.ylim([1000, 50])). Select the levels appropriatly, for example np.linspace(-2, 2, 21) for v and np.linspace(-0.1, 0.1, 21) for w.**\n",
    "\n",
    "**Q: discuss the plots. Do they correspond to your expectations from the lecture?**"
   ]
  },
  {
   "cell_type": "code",
   "execution_count": null,
   "metadata": {
    "collapsed": false
   },
   "outputs": [],
   "source": [
    "w.plot.contourf(levels=np.linspace(-0.1, 0.1, 21))\n",
    "plt.ylim([1000, 50]);"
   ]
  },
  {
   "cell_type": "code",
   "execution_count": null,
   "metadata": {
    "collapsed": false
   },
   "outputs": [],
   "source": [
    "v.plot.contourf(levels=np.linspace(-2, 2, 21))\n",
    "plt.ylim([1000, 50]);"
   ]
  },
  {
   "cell_type": "markdown",
   "metadata": {},
   "source": [
    "Not that u and w are the components of a wind vector in the meridional plane. As such they could be represented by arrows:"
   ]
  },
  {
   "cell_type": "code",
   "execution_count": null,
   "metadata": {
    "collapsed": false
   },
   "outputs": [],
   "source": [
    "pv, pw = v[:, ::7], w[:, ::7]\n",
    "qv = plt.quiver(pv.latitude, pv.level, pv.values, pw.values)\n",
    "plt.ylim([1000, 50]);\n",
    "plt.xlim([-90, 90]);"
   ]
  },
  {
   "cell_type": "markdown",
   "metadata": {},
   "source": [
    "**Q: discuss the quiver plot above. Is it easy to interpret? For which reason?**"
   ]
  },
  {
   "cell_type": "markdown",
   "metadata": {},
   "source": [
    "## Stream function and Hadley circulation"
   ]
  },
  {
   "cell_type": "markdown",
   "metadata": {},
   "source": [
    "### A few equations to define the stream function"
   ]
  },
  {
   "cell_type": "markdown",
   "metadata": {},
   "source": [
    "In the meridional plane and since we have averaged over all longitudes, the continuity equation reduces to:\n",
    "    \n",
    "$$ \\nabla \\cdot [\\vec{V}] = \\frac{\\partial [v]}{\\partial y} + \\frac{\\partial [w]}{\\partial p} = 0 $$\n",
    "\n",
    "Where the brackets denote the zonal average. In spherical pressure coordinates the same continuity equation writes \n",
    "\n",
    "$$ \\frac{1}{R \\cos \\varphi} \\frac{\\partial \\left( [v] \\cos \\varphi \\right)}{\\partial \\varphi} + \\frac{\\partial [w]}{\\partial p} = 0 $$\n",
    "\n",
    "This equation is very useful since any convergence in the horizontal meridional flow must be balanced by divergence in the vertical flow. In other words: only one variable ($[v]$ or $[w]$) is needed to define the flow in the plane. With a little bit of mathematical manipulation, a [stream function](https://en.wikipedia.org/wiki/Stream_function) can be used for this purpose.\n",
    "\n",
    "Let's define the funtion $\\Psi$ such that the continuity equation above is satisfied:\n",
    "\n",
    "$$[v] = \\frac{g}{2 \\pi R \\cos \\varphi} \\frac{\\partial \\Psi}{\\partial p}$$\n",
    "\n",
    "and\n",
    "\n",
    "$$[w] = - \\frac{g}{2 \\pi R^2 \\cos \\varphi} \\frac{\\partial \\Psi}{\\partial \\varphi}$$\n",
    "\n",
    "(note that $g$ is added so that $\\Psi$ is of unit kg s$^{-1}$, a mass flux).\n",
    "\n",
    "So $\\Psi$ could be defined from either $w$ or $v$. Since $w$ in the atmosphere is very small, noisy, and subject to observational errors we will use $[v]$ to compute it. Integrating the equation above from the tropopause (where \\Psi is assumed to be zero) *down* to some level $p$ gives:\n",
    "\n",
    "$$ \\Psi (\\varphi, p) = \\frac{2 \\pi R \\cos \\varphi}{g} \\int_{p_{trop}}^{p} [v(\\varphi, p)] dp $$\n",
    "\n",
    "The integral above can be computed numerically from our $[v]$ field. $\\Psi (\\varphi, p) $ is a mass transport (kg s$^{-1}$) equal to the rate at which mass is transported merdionally in the region between the level $p$ and the tropopause by the zonal mean circulation."
   ]
  },
  {
   "cell_type": "markdown",
   "metadata": {},
   "source": [
    "### Back to python: numerical integration"
   ]
  },
  {
   "cell_type": "markdown",
   "metadata": {},
   "source": [
    "How to integrate the geophysical field $[v]$? Like derivation, numerical integration is a thing that computers now how to do. Here again we are going to use a numpy [function](http://docs.scipy.org/doc/numpy-1.10.1/reference/generated/numpy.trapz.html) for it. You learn in more detail how the numerical integration works in another course. The purpose of our exercises is to \"demistify\" a litte bit these operations which can be quite simple to use in python.\n",
    "\n",
    "**Q: read the documentation of the numpy function trapz().** Interested students can read about the trapezoidal rule in [wikipedia](https://en.wikipedia.org/wiki/Trapezoidal_rule) for example."
   ]
  },
  {
   "cell_type": "markdown",
   "metadata": {},
   "source": [
    "First we are going to prepare a container for $\\Psi$, where we will put the results of our computations:"
   ]
  },
  {
   "cell_type": "code",
   "execution_count": null,
   "metadata": {
    "collapsed": false
   },
   "outputs": [],
   "source": [
    "psi_data = v * 0  # psi_data is of the same dimensions as v: (level, latitude)"
   ]
  },
  {
   "cell_type": "markdown",
   "metadata": {},
   "source": [
    "We have to integrate up to level $p$ for each level in the original data. This is why we need a for loop. Here as an example:"
   ]
  },
  {
   "cell_type": "code",
   "execution_count": null,
   "metadata": {
    "collapsed": false
   },
   "outputs": [],
   "source": [
    "for p in psi_data.level.values:\n",
    "    print('We will integrate from level 50 to level: {}'.format(p))"
   ]
  },
  {
   "cell_type": "markdown",
   "metadata": {},
   "source": [
    "For each levels we will select only the data we need for the integration, compute it, and then store it in our container variable:"
   ]
  },
  {
   "cell_type": "code",
   "execution_count": null,
   "metadata": {
    "collapsed": false
   },
   "outputs": [],
   "source": [
    "for p in psi_data.level.values:\n",
    "    # select parts of v we want to integrate\n",
    "    sel_v = v.sel(level=slice(50, p))\n",
    "    # the z coordinates of [v] for the integral:\n",
    "    zcoords = sel_v.level * 100  # note the \"* 100\" to convert hPa into SI units!\n",
    "    # integrate the v values over the atmospheric column (axis=0), with the pressure coordinates sel_v.level\n",
    "    integral = np.trapz(sel_v, zcoords, axis=0)\n",
    "    # store the results (\".loc[p]\" is equivalent to \".sel(level=p)\")\n",
    "    psi_data.loc[p] = integral"
   ]
  },
  {
   "cell_type": "markdown",
   "metadata": {},
   "source": [
    "The loop above might be a bit complicated to understand. Don't hesitate to ask me for more details!"
   ]
  },
  {
   "cell_type": "markdown",
   "metadata": {},
   "source": [
    "Finally, we need to compute the factor $ \\frac{2 \\pi R \\cos \\varphi}{g} $ and multiply it to our integral:"
   ]
  },
  {
   "cell_type": "code",
   "execution_count": null,
   "metadata": {
    "collapsed": true
   },
   "outputs": [],
   "source": [
    "fac = 2 * np.pi * 6371000 * np.cos(np.deg2rad(v.latitude)) / 9.81\n",
    "psi = psi_data * fac\n",
    "# Convert to Sverdrups:\n",
    "psi = psi / 1e9\n",
    "psi.name = '10$^9$ kg s$^{-1}$'"
   ]
  },
  {
   "cell_type": "markdown",
   "metadata": {},
   "source": [
    "All done! Let's plot the result:"
   ]
  },
  {
   "cell_type": "code",
   "execution_count": null,
   "metadata": {
    "collapsed": false
   },
   "outputs": [],
   "source": [
    "psi.plot.contourf(levels=np.linspace(-100, 100, 21), extend='both')\n",
    "plt.title('Stream function of the meridional overturning circulation -- annual average')\n",
    "plt.ylim([1000, 50]);"
   ]
  },
  {
   "cell_type": "markdown",
   "metadata": {},
   "source": [
    "Remember that the sream function plotted above is a function representation of a 2D flow. The w component of the wind is propotional to $- \\frac{\\partial \\Psi}{\\partial \\varphi}$, the v component is propotional to $\\frac{\\partial \\Psi}{\\partial p}$\n",
    "\n",
    "**Q: describe the meridional overturning circulation represented above. Name the cells you can recognise and describe their circulation. Compare the ciirculation as described by $\\Psi$ to the v and w plots you made in section \"Zonal averages of the meridional and vertical wind components\" above.**"
   ]
  },
  {
   "cell_type": "markdown",
   "metadata": {},
   "source": [
    "**E: repeat the operations above but this time for the months of January and of July. Describe the differences bewteen the two months and the annual average.** \n",
    "\n",
    "*Bonus exercice to do at home if you want: can you make a \"for loop\" that plots all 12 months in 12 different figures?*"
   ]
  },
  {
   "cell_type": "code",
   "execution_count": null,
   "metadata": {
    "collapsed": false
   },
   "outputs": [],
   "source": [
    "for m in np.arange(1, 13):\n",
    "    v = netcdf.v.sel(month=m).mean(dim='longitude')\n",
    "    psi_data = v * 0 \n",
    "    for p in psi_data.level.values:\n",
    "        # select parts of v we want to integrate\n",
    "        sel_v = v.sel(level=slice(50, p))\n",
    "        # the z coordinates of [v] for the integral:\n",
    "        zcoords = sel_v.level * 100  # note the \"* 100\" to convert hPa into SI units!\n",
    "        # integrate the v values over the atmospheric column (axis=0), with the pressure coordinates sel_v.level\n",
    "        integral = np.trapz(sel_v, zcoords, axis=0)\n",
    "        # store the results (\".loc[p]\" is equivalent to \".sel(level=p)\")\n",
    "        psi_data.loc[p] = integral\n",
    "    fac = 2 * np.pi * 6371000 * np.cos(np.deg2rad(v.latitude)) / 9.81\n",
    "    psi = psi_data * fac\n",
    "    # Convert to Sverdrups:\n",
    "    psi = psi / 1e9\n",
    "    psi.name = '10$^9$ kg s$^{-1}$'\n",
    "    \n",
    "    plt.figure()\n",
    "    psi.plot.contourf(levels=np.linspace(-200, 200, 21), extend='both')\n",
    "    plt.title('Stream function of the meridional overturning circulation -- month: {}'.format(m))\n",
    "    plt.ylim([1000, 50]);"
   ]
  },
  {
   "cell_type": "markdown",
   "metadata": {
    "collapsed": true
   },
   "source": [
    "## Equatorial Walker circulation"
   ]
  },
  {
   "cell_type": "markdown",
   "metadata": {},
   "source": [
    "We have seen that we could represent the averaged Hadley circulation with only one information (the meridional wind v) and the use of a stream function. The Walker circulation is also a thermal circulation, with the difference that it takes place at the equator. Is it also possible to visualize the Walker circulation with the help of a stream function?"
   ]
  },
  {
   "cell_type": "markdown",
   "metadata": {},
   "source": [
    "### u and w zonal plots "
   ]
  },
  {
   "cell_type": "markdown",
   "metadata": {},
   "source": [
    "We will now focus on a small band around the equator. Let's select this data and average it over time and latitudes:"
   ]
  },
  {
   "cell_type": "code",
   "execution_count": null,
   "metadata": {
    "collapsed": true
   },
   "outputs": [],
   "source": [
    "u = netcdf.u.sel(latitude=slice(5, -5)).mean(dim=['month', 'latitude'])\n",
    "w = - netcdf.w.sel(latitude=slice(5, -5)).mean(dim=['month', 'latitude'])"
   ]
  },
  {
   "cell_type": "markdown",
   "metadata": {},
   "source": [
    "**E: make a countour plot of u and w. Discuss the features of the winds. Where are the updrafts? Downdrafts? Which are stronger? Can you recognise the features of the Walker circulation we described in the lecture?**\n",
    "\n",
    "Approximative location of the oceans/continents:\n",
    "- 150E -> 80W: Pacific Ocean\n",
    "- 80W -> 40W: South-America\n",
    "- 40W -> 10E: Atlantic Ocean\n",
    "- 10E -> 40E: Africa\n",
    "- 40E -> 100E: Indian Ocean\n",
    "- 100E -> 150E: Indonesia"
   ]
  },
  {
   "cell_type": "code",
   "execution_count": null,
   "metadata": {
    "collapsed": false
   },
   "outputs": [],
   "source": [
    "w.plot.contourf(levels=np.linspace(-0.1, 0.1, 21))\n",
    "plt.ylim([1000, 50]);"
   ]
  },
  {
   "cell_type": "code",
   "execution_count": null,
   "metadata": {
    "collapsed": false
   },
   "outputs": [],
   "source": [
    "u.plot.contourf(levels=np.linspace(-15, 15, 21))\n",
    "plt.ylim([1000, 50]);"
   ]
  },
  {
   "cell_type": "code",
   "execution_count": null,
   "metadata": {
    "collapsed": true
   },
   "outputs": [],
   "source": []
  },
  {
   "cell_type": "markdown",
   "metadata": {},
   "source": [
    "**Note: the analyses below can only be done on the university computers (they require packages which are not installed on your laptops). They are a bit more complicated (just a bit) and go a bit beyond the lecture requirements. You can see them as beiing \"faculative\".**"
   ]
  },
  {
   "cell_type": "markdown",
   "metadata": {},
   "source": [
    "### Divergent components of the wind vector"
   ]
  },
  {
   "cell_type": "markdown",
   "metadata": {},
   "source": [
    "Although the rough features of the Walker circulation are visible from the plots above, computing the stream function from u is not as straight forward as it was with the zonal average of v. First, the latitudinal band selected around the equator is not a closed system and the continuity assumptions presented above are not valid in the ($\\lambda$, $p$) plane. Second, the equatorial zonal plane is a \"loop\": the flow can be continuous around the globe (and it is, to some extent, at certain altitudes), thus masking the Walker circulation. Therefore, climatologists have defined a better way to define the equatorial Walker circulation. We will describe this step below. "
   ]
  },
  {
   "cell_type": "code",
   "execution_count": null,
   "metadata": {
    "collapsed": true
   },
   "outputs": [],
   "source": [
    "# This package is only available at the university\n",
    "import climate"
   ]
  },
  {
   "cell_type": "code",
   "execution_count": null,
   "metadata": {
    "collapsed": false
   },
   "outputs": [],
   "source": [
    "# Read the u and v winds\n",
    "u = netcdf.u.mean(dim='month')\n",
    "v = netcdf.v.mean(dim='month')\n",
    "# compute the rotational and irrrotational components of the wind\n",
    "urot, vrot = climate.rotationalcomponent(u, v)\n",
    "uirot, virot = climate.irrotationalcomponent(u, v)"
   ]
  },
  {
   "cell_type": "markdown",
   "metadata": {
    "collapsed": true
   },
   "source": [
    "What did we just do? The [Helmholtz's theorem](https://en.wikipedia.org/wiki/Helmholtz_decomposition) states that any sufficiently smooth vector field can be decomposed into the sum of an irrotational (curl-free) vector field and a solenoidal (divergence-free)"
   ]
  },
  {
   "cell_type": "code",
   "execution_count": null,
   "metadata": {
    "collapsed": false
   },
   "outputs": [],
   "source": [
    "uchi.sel(latitude=slice(5, -5)).mean(dim=['latitude']).plot.contourf(levels=np.linspace(-3, 3, 21))\n",
    "plt.ylim([1000, 50]);"
   ]
  },
  {
   "cell_type": "code",
   "execution_count": null,
   "metadata": {
    "collapsed": false
   },
   "outputs": [],
   "source": [
    "pu, pv = uchi.sel(level=900)[::7, ::7], vchi.sel(level=900)[::7, ::7]\n",
    "ax = plt.axes(projection=ccrs.PlateCarree())\n",
    "qv = ax.quiver(pu.longitude, pu.latitude, pu, pv, transform=ccrs.PlateCarree())\n",
    "ax.coastlines();"
   ]
  },
  {
   "cell_type": "code",
   "execution_count": null,
   "metadata": {
    "collapsed": false
   },
   "outputs": [],
   "source": [
    "v = netcdf.u.sel(latitude=slice(5, -5)).mean(dim=['month', 'latitude'])\n",
    "psi_data = v * 0 \n",
    "for p in psi_data.level.values:\n",
    "    # select parts of v we want to integrate\n",
    "    sel_v = v.sel(level=slice(50, p))\n",
    "    # the z coordinates of [v] for the integral:\n",
    "    zcoords = sel_v.level * 100  # note the \"* 100\" to convert hPa into SI units!\n",
    "    # integrate the v values over the atmospheric column (axis=0), with the pressure coordinates sel_v.level\n",
    "    integral = np.trapz(sel_v, zcoords, axis=0)\n",
    "    # store the results (\".loc[p]\" is equivalent to \".sel(level=p)\")\n",
    "    psi_data.loc[p] = integral\n",
    "fac = 2 * np.pi * 6371000 / 9.81\n",
    "psi = psi_data * fac\n",
    "# Convert to Sverdrups:\n",
    "psi = psi / 1e9\n",
    "psi.name = '10$^9$ kg s$^{-1}$'\n",
    "\n",
    "plt.figure()\n",
    "psi.plot.contourf()\n",
    "plt.title('Stream function of the meridional overturning circulation -- month: {}'.format(m))\n",
    "plt.ylim([1000, 50]);"
   ]
  },
  {
   "cell_type": "raw",
   "metadata": {
    "collapsed": false
   },
   "source": [
    "w = - netcdf.w.mean(dim=['month'])\n",
    "u = netcdf.u.mean(dim=['month'])\n",
    "v = netcdf.v.mean(dim=['month'])"
   ]
  },
  {
   "cell_type": "code",
   "execution_count": null,
   "metadata": {
    "collapsed": true
   },
   "outputs": [],
   "source": [
    "u = netcdf.u"
   ]
  },
  {
   "cell_type": "code",
   "execution_count": null,
   "metadata": {
    "collapsed": false
   },
   "outputs": [],
   "source": [
    "dims = list(u.dims)\n",
    "dims.remove('latitude')\n",
    "dims.remove('longitude')\n",
    "dims"
   ]
  },
  {
   "cell_type": "code",
   "execution_count": null,
   "metadata": {
    "collapsed": true
   },
   "outputs": [],
   "source": [
    "import climate"
   ]
  },
  {
   "cell_type": "code",
   "execution_count": null,
   "metadata": {
    "collapsed": false
   },
   "outputs": [],
   "source": [
    "u = netcdf.u.mean(dim='month')\n",
    "v = netcdf.v.mean(dim='month')\n",
    "uchi, vchi = climate.irrotationalcomponent(u, v)"
   ]
  },
  {
   "cell_type": "code",
   "execution_count": null,
   "metadata": {
    "collapsed": false
   },
   "outputs": [],
   "source": [
    "pu, pv = uchi.sel(level=200)[::7, ::7], vchi.sel(level=200)[::7, ::7]\n",
    "ax = plt.axes(projection=ccrs.PlateCarree())\n",
    "qv = ax.quiver(pu.longitude, pu.latitude, pu, pv, transform=ccrs.PlateCarree())\n",
    "ax.coastlines();"
   ]
  },
  {
   "cell_type": "code",
   "execution_count": null,
   "metadata": {
    "collapsed": true
   },
   "outputs": [],
   "source": [
    "w = - netcdf.w.sel(latitude=slice(5, -5)).mean(dim=['month', 'latitude'])\n",
    "u = uchi.sel(latitude=slice(5, -5)).mean(dim=['latitude'])"
   ]
  },
  {
   "cell_type": "code",
   "execution_count": null,
   "metadata": {
    "collapsed": true
   },
   "outputs": [],
   "source": [
    "# u = u - u.mean(dim='longitude')"
   ]
  },
  {
   "cell_type": "code",
   "execution_count": null,
   "metadata": {
    "collapsed": false
   },
   "outputs": [],
   "source": [
    "pu, pw = u[:, ::7], w[:, ::7]\n",
    "qv = plt.quiver(pu.longitude, pu.level, pu.values*0, pw.values)\n",
    "plt.ylim([1000, 50]);"
   ]
  },
  {
   "cell_type": "code",
   "execution_count": null,
   "metadata": {
    "collapsed": false
   },
   "outputs": [],
   "source": [
    "pu, pw = u[:, ::7], w[:, ::7]\n",
    "qv = plt.quiver(pu.longitude, pu.level, pu.values, pw.values*0)\n",
    "plt.ylim([1000, 50]);"
   ]
  },
  {
   "cell_type": "code",
   "execution_count": null,
   "metadata": {
    "collapsed": false
   },
   "outputs": [],
   "source": [
    "cont = u.values*0\n",
    "for i, p in enumerate(u.level.values):\n",
    "    cont[i] = np.trapz(u.sel(level=slice(50, p)).values, u.sel(level=slice(50, p)).level.values * 100, axis=0)"
   ]
  },
  {
   "cell_type": "code",
   "execution_count": null,
   "metadata": {
    "collapsed": true
   },
   "outputs": [],
   "source": [
    "fac = 2 * np.pi * 6371000 / 9.81"
   ]
  },
  {
   "cell_type": "code",
   "execution_count": null,
   "metadata": {
    "collapsed": false
   },
   "outputs": [],
   "source": [
    "cont = u * 0 + cont \n",
    "phi = cont * fac / (10**9)"
   ]
  },
  {
   "cell_type": "code",
   "execution_count": null,
   "metadata": {
    "collapsed": false
   },
   "outputs": [],
   "source": [
    "phi.plot.contourf(levels=np.linspace(-200, 200,21))\n",
    "plt.ylim([1000, 50]);"
   ]
  },
  {
   "cell_type": "code",
   "execution_count": null,
   "metadata": {
    "collapsed": false
   },
   "outputs": [],
   "source": [
    "du  = u.values\n",
    "du.shape"
   ]
  },
  {
   "cell_type": "code",
   "execution_count": null,
   "metadata": {
    "collapsed": false
   },
   "outputs": [],
   "source": [
    "du = np.hstack([du, du[:,[0]]])\n",
    "du = (du[:, 1:] - du[:, :-1])"
   ]
  },
  {
   "cell_type": "code",
   "execution_count": null,
   "metadata": {
    "collapsed": false
   },
   "outputs": [],
   "source": [
    "u = u*0 + du"
   ]
  },
  {
   "cell_type": "code",
   "execution_count": null,
   "metadata": {
    "collapsed": true
   },
   "outputs": [],
   "source": []
  }
 ],
 "metadata": {
  "kernelspec": {
   "display_name": "Python 3",
   "language": "python",
   "name": "python3"
  },
  "language_info": {
   "codemirror_mode": {
    "name": "ipython",
    "version": 3
   },
   "file_extension": ".py",
   "mimetype": "text/x-python",
   "name": "python",
   "nbconvert_exporter": "python",
   "pygments_lexer": "ipython3",
   "version": "3.4.3"
  }
 },
 "nbformat": 4,
 "nbformat_minor": 0
}
