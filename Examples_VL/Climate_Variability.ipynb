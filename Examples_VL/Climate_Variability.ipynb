{
 "cells": [
  {
   "cell_type": "markdown",
   "metadata": {},
   "source": [
    "# Ocean as a buffer, ocean as an actor of climate variability"
   ]
  },
  {
   "cell_type": "code",
   "execution_count": null,
   "metadata": {
    "collapsed": true
   },
   "outputs": [],
   "source": [
    "# Define the tools we are going to need today\n",
    "%matplotlib inline\n",
    "import matplotlib.pyplot as plt  # plotting library\n",
    "import numpy as np  # numerical library\n",
    "import xray  # NetCDF library\n",
    "import cartopy  # Plotting libary\n",
    "import cartopy.crs as ccrs  # Projections\n",
    "np.set_printoptions(threshold=20)  # avoid to print very large arrays on screen\n",
    "# The commands below are not important\n",
    "import warnings\n",
    "warnings.filterwarnings('ignore')"
   ]
  },
  {
   "cell_type": "code",
   "execution_count": null,
   "metadata": {
    "collapsed": true
   },
   "outputs": [],
   "source": [
    "# Some defaults\n",
    "import seaborn as sns\n",
    "sns.set_context('poster')\n",
    "sns.set_style('whitegrid')\n",
    "plt.rcParams['figure.figsize'] = (14, 5)  # Default plot size"
   ]
  },
  {
   "cell_type": "code",
   "execution_count": null,
   "metadata": {
    "collapsed": false
   },
   "outputs": [],
   "source": [
    "netcdf = xray.open_dataset('ERA-Int-Monthly-2mTemp.nc')\n",
    "t2_var = netcdf.t2m - 273.15\n",
    "t2_var.name = '°C'\n",
    "t2_avg = t2_var.mean(dim='time')"
   ]
  },
  {
   "cell_type": "code",
   "execution_count": null,
   "metadata": {
    "collapsed": false
   },
   "outputs": [],
   "source": [
    "corner_lats = np.deg2rad(np.clip(np.arange(242) * 0.75 - 90.375, -90, 90))\n",
    "area_segment = 2 * np.pi * 6371**2 * np.abs(np.sin(corner_lats[1:]) - np.sin(corner_lats[:-1])) / 480\n",
    "area_grid = (t2_avg * 0 + 1) * xray.DataArray(area_segment, [('latitude', t2_avg.latitude)])"
   ]
  },
  {
   "cell_type": "markdown",
   "metadata": {},
   "source": [
    "## Average air temperature "
   ]
  },
  {
   "cell_type": "code",
   "execution_count": null,
   "metadata": {
    "collapsed": false
   },
   "outputs": [],
   "source": [
    "levels = [-45, -30, -20, -10, 0, 5, 10, 15, 20, 22, 24, 26]\n",
    "ax = plt.axes(projection=ccrs.Robinson())\n",
    "t2_avg.plot(ax=ax, origin='upper', aspect='equal', transform=ccrs.PlateCarree(), \n",
    "            levels=levels, cmap=plt.get_cmap('viridis')) \n",
    "plt.title(\"ERA-Int average 2m temperature 1979-2014\")\n",
    "ax.coastlines();"
   ]
  },
  {
   "cell_type": "code",
   "execution_count": null,
   "metadata": {
    "collapsed": true
   },
   "outputs": [],
   "source": [
    "sns.set_style('whitegrid')\n",
    "plt.rcParams['figure.figsize'] = (14, 5)  # Default plot size"
   ]
  },
  {
   "cell_type": "code",
   "execution_count": null,
   "metadata": {
    "collapsed": false
   },
   "outputs": [],
   "source": [
    "t2_d2lon = t2_avg - t2_avg.mean(dim='longitude')\n",
    "ax = plt.axes(projection=ccrs.Robinson())\n",
    "t2_d2lon.plot(ax=ax, origin='upper', aspect='equal', transform=ccrs.PlateCarree()) \n",
    "plt.title(\"Local 2m temperature difference to the zonal average\")\n",
    "ax.coastlines();"
   ]
  },
  {
   "cell_type": "markdown",
   "metadata": {},
   "source": [
    "## Monthly temperature"
   ]
  },
  {
   "cell_type": "code",
   "execution_count": null,
   "metadata": {
    "collapsed": false
   },
   "outputs": [],
   "source": [
    "t2_cycle = t2_var.groupby('time.month').mean(dim='time')"
   ]
  },
  {
   "cell_type": "code",
   "execution_count": null,
   "metadata": {
    "collapsed": false
   },
   "outputs": [],
   "source": [
    "ax = plt.axes(projection=ccrs.Robinson())\n",
    "t2_cycle.sel(month=1).plot(ax=ax, origin='upper', aspect='equal', transform=ccrs.PlateCarree(), vmin=-30, vmax=+30) \n",
    "ax.coastlines();"
   ]
  },
  {
   "cell_type": "code",
   "execution_count": null,
   "metadata": {
    "collapsed": false
   },
   "outputs": [],
   "source": [
    "ax = plt.axes(projection=ccrs.Robinson())\n",
    "t2_cycle.sel(month=7).plot(ax=ax, origin='upper', aspect='equal', transform=ccrs.PlateCarree(), vmin=-30, vmax=+30) \n",
    "ax.coastlines();"
   ]
  },
  {
   "cell_type": "markdown",
   "metadata": {},
   "source": [
    "## Interannual variability"
   ]
  },
  {
   "cell_type": "code",
   "execution_count": null,
   "metadata": {
    "collapsed": true
   },
   "outputs": [],
   "source": [
    "# Weight over oceans and land\n",
    "wgt_tot = area_grid / area_grid.sum()\n",
    "nc_inv = xray.open_dataset('ERA-Int-Invariant.nc')\n",
    "# We have to recompute the weight for the new subsets!\n",
    "wgt_oceans = wgt_tot.where(nc_inv.lsm == 0)\n",
    "wgt_oceans = wgt_oceans / wgt_oceans.sum()\n",
    "wgt_land = wgt_tot.where(nc_inv.lsm == 1)\n",
    "wgt_land = wgt_land / wgt_land.sum()"
   ]
  },
  {
   "cell_type": "code",
   "execution_count": null,
   "metadata": {
    "collapsed": false
   },
   "outputs": [],
   "source": [
    "t2_ts = (t2_var * wgt_land).sum(dim=['longitude', 'latitude']).resample(dim='time', freq='A')\n",
    "fig = plt.figure(figsize=(9, 6))\n",
    "t2_ts.plot();\n",
    "plt.ylabel('°C')\n",
    "plt.title('Average annual temperature over land');"
   ]
  },
  {
   "cell_type": "code",
   "execution_count": null,
   "metadata": {
    "collapsed": false
   },
   "outputs": [],
   "source": [
    "t2_ts = (t2_var * wgt_oceans).sum(dim=['longitude', 'latitude']).resample(dim='time', freq='A')\n",
    "fig = plt.figure(figsize=(9, 6))\n",
    "t2_ts.plot();\n",
    "plt.ylabel('°C')\n",
    "plt.title('Average annual temperature over oceans');"
   ]
  },
  {
   "cell_type": "code",
   "execution_count": null,
   "metadata": {
    "collapsed": false
   },
   "outputs": [],
   "source": [
    "# Wheight tropics\n",
    "wgt_trop = wgt_oceans.where((wgt_tot.latitude < 23.5) & (wgt_tot.latitude > -23.5))\n",
    "wgt_trop = wgt_trop / wgt_trop.sum()\n",
    "t2_ts = (t2_var * wgt_trop).sum(dim=['longitude', 'latitude']).resample(dim='time', freq='A')\n",
    "fig = plt.figure(figsize=(9, 6))\n",
    "t2_ts.plot();\n",
    "plt.ylabel('°C')\n",
    "plt.title('Average annual temperature over tropical oceans');"
   ]
  },
  {
   "cell_type": "code",
   "execution_count": null,
   "metadata": {
    "collapsed": true
   },
   "outputs": [],
   "source": []
  }
 ],
 "metadata": {
  "kernelspec": {
   "display_name": "Python 3",
   "language": "python",
   "name": "python3"
  },
  "language_info": {
   "codemirror_mode": {
    "name": "ipython",
    "version": 3
   },
   "file_extension": ".py",
   "mimetype": "text/x-python",
   "name": "python",
   "nbconvert_exporter": "python",
   "pygments_lexer": "ipython3",
   "version": "3.4.3"
  }
 },
 "nbformat": 4,
 "nbformat_minor": 0
}
