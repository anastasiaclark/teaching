{
 "cells": [
  {
   "cell_type": "markdown",
   "metadata": {},
   "source": [
    "# Exercises 03: playing around with station data (corrections)"
   ]
  },
  {
   "cell_type": "markdown",
   "metadata": {},
   "source": [
    "Here I provide only the technical solutions to the excercises. The analysis will be discussed in class."
   ]
  },
  {
   "cell_type": "markdown",
   "metadata": {},
   "source": [
    "### Exercise 1"
   ]
  },
  {
   "cell_type": "markdown",
   "metadata": {},
   "source": [
    "Unfortunately, the data preparator has forgotten to provide you the *metadata* of this file (this happens more often then you think). the only thing you now is that the station is located at [30.47153N, 90.64534E], on the Zhadang glacier in Tibet.\n",
    "\n",
    "**Read the data with pandas and \"explore\" them. How long are the time series? Which temporal resolution? Try to find out which variable is which. Discuss their units. Once you got them all, rename the columns accordingly.**"
   ]
  },
  {
   "cell_type": "code",
   "execution_count": null,
   "metadata": {
    "collapsed": true
   },
   "outputs": [],
   "source": [
    "# imports and defaults\n",
    "import pandas as pd  \n",
    "%matplotlib inline \n",
    "import matplotlib.pyplot as plt\n",
    "import numpy as np\n",
    "pd.options.display.max_rows = 14\n",
    "import seaborn as sns\n",
    "sns.set_style('ticks')\n",
    "sns.set_context('talk')"
   ]
  },
  {
   "cell_type": "code",
   "execution_count": null,
   "metadata": {
    "collapsed": true
   },
   "outputs": [],
   "source": [
    "# read the data\n",
    "df = pd.read_csv('DataGame.csv', index_col=0, parse_dates=True)"
   ]
  },
  {
   "cell_type": "code",
   "execution_count": null,
   "metadata": {
    "collapsed": false
   },
   "outputs": [],
   "source": [
    "# plot all vars\n",
    "for c in df.columns:\n",
    "    # empty figure and plot\n",
    "    plt.figure()\n",
    "    df[c].plot(title=c)"
   ]
  },
  {
   "cell_type": "code",
   "execution_count": null,
   "metadata": {
    "collapsed": false
   },
   "outputs": [],
   "source": [
    "# rename the columns\n",
    "df.columns = ['PRESSURE', 'ANGLE', 'WINDSPEED', 'NETRAD', 'RH', 'SWIN', 'SR50', 'TEMP', 'SWOUT', 'WINDDIR', 'SURFTEMP']"
   ]
  },
  {
   "cell_type": "markdown",
   "metadata": {},
   "source": [
    "### Exercise 2"
   ]
  },
  {
   "cell_type": "markdown",
   "metadata": {},
   "source": [
    "Now that you've got all this sorted out, take the incoming shortwave radiation variable. Plot one summer day of data (any summer day). If it's not a clear sky day, pick another day with clear sky conditions.\n",
    "\n",
    "**Discuss the daily cycle of radiation. Does it make sense? What it the probable time zone of the data? By how many hours should you shift the data?**\n",
    "\n",
    "Once you have an idea, check if this corresponds to the actual solar time at this location, for example by using an online solar time calculator: http://www.esrl.noaa.gov/gmd/grad/solcalc/. Compare this time with the China Standard Time (CST).\n",
    "\n",
    "**Redefine the index with a new time shifted with the right number of hours, so that the solar noon matches the data (approximately).**"
   ]
  },
  {
   "cell_type": "code",
   "execution_count": null,
   "metadata": {
    "collapsed": false
   },
   "outputs": [],
   "source": [
    "# any day\n",
    "df['SWIN'].loc['2011-08-18'].plot();"
   ]
  },
  {
   "cell_type": "code",
   "execution_count": null,
   "metadata": {
    "collapsed": true
   },
   "outputs": [],
   "source": [
    "# approx 6 hours, confirmed by the webpage\n",
    "df.index = df.index + pd.DateOffset(hours=6)"
   ]
  },
  {
   "cell_type": "code",
   "execution_count": null,
   "metadata": {
    "collapsed": false
   },
   "outputs": [],
   "source": [
    "# check if its better\n",
    "df['SWIN'].loc['2011-08-18'].plot();"
   ]
  },
  {
   "cell_type": "markdown",
   "metadata": {},
   "source": [
    "### Exercise 3"
   ]
  },
  {
   "cell_type": "markdown",
   "metadata": {},
   "source": [
    "We now have plenty of data at hand (this data costed the german taxpayers quite a lot of money). Let's focus on one of the most complicated variable first: wind. The wind direction is given with an angle value, which reports the direction **from where the wind is blowing**:\n",
    "- North: 0°\n",
    "- South: 180°\n",
    "- West: 270°\n",
    "- East: 90°\n",
    "\n",
    "For example, if the wind direction is 45 degrees, the winds are coming out of the northeast and blowing towards the southwest. This would be called a north-easterly wind.\n",
    "\n",
    "**Discuss the possible implications that a dummy averaging of the wind direction would have. Does it actually make sense to plot the wind direction as a connected time serie? Plot the wind-direction as an histogram. Choose to use the number of bins so that the size of a bin is 10°.**\n",
    "\n",
    "By entering the coordinates of the station in http://www.bing.com/maps/ you can have a look at the geographical situation of the glacier. Analyse the dominant wind directions in this context. From which directions does the wind barely never blow?\n",
    "\n",
    "**Plot the wind speed and direction as a scatter plot, with the wind-direction as x-axis and the wind-speed as y-axis.**\n",
    "\n",
    "From where are the strongest winds coming from? Explain why it could be like this.\n",
    "\n",
    "**Now reproduce the scatter plot from above, but once with data from August only, and once with data from January only. Discuss.**\n",
    "\n",
    "Bonus question: plot the average diurnal cycle of wind speed in August, and in January. Discuss"
   ]
  },
  {
   "cell_type": "code",
   "execution_count": null,
   "metadata": {
    "collapsed": false
   },
   "outputs": [],
   "source": [
    "# histogram plot\n",
    "df['WINDDIR'].plot(kind='hist', bins=36);"
   ]
  },
  {
   "cell_type": "code",
   "execution_count": null,
   "metadata": {
    "collapsed": false
   },
   "outputs": [],
   "source": [
    "# scatter plots\n",
    "fig, (ax1, ax2, ax3) = plt.subplots(3, 1, figsize=(12, 16))\n",
    "df.plot(kind='scatter', x='WINDDIR', y='WINDSPEED', title='All times', ax=ax1);\n",
    "ax1.set_ylim([0, 20]);\n",
    "df.loc[df.index.month == 1].plot(kind='scatter', x='WINDDIR', y='WINDSPEED', title='January', ax=ax2);\n",
    "ax2.set_ylim([0, 20]);\n",
    "df.loc[df.index.month == 8].plot(kind='scatter', x='WINDDIR', y='WINDSPEED', title='August', ax=ax3);\n",
    "ax3.set_ylim([0, 20]);\n",
    "plt.tight_layout()"
   ]
  },
  {
   "cell_type": "code",
   "execution_count": null,
   "metadata": {
    "collapsed": false
   },
   "outputs": [],
   "source": [
    "# bonus\n",
    "fig, (ax1, ax2) = plt.subplots(1, 2, figsize=(14, 5))\n",
    "dfsel = df['WINDSPEED'].loc[df.index.month == 1]\n",
    "dfsel.groupby(dfsel.index.hour).mean().plot(ax=ax1, title='January');\n",
    "ax1.set_ylim([2, 6]);\n",
    "dfsel = df['WINDSPEED'].loc[df.index.month == 8]\n",
    "dfsel.groupby(dfsel.index.hour).mean().plot(ax=ax2, title='August');\n",
    "ax2.set_ylim([2, 6]);"
   ]
  },
  {
   "cell_type": "markdown",
   "metadata": {},
   "source": [
    "### Exercise 4"
   ]
  },
  {
   "cell_type": "markdown",
   "metadata": {},
   "source": [
    "One of the oldest (and still widely used) model of ice and snow melt is the [degree day model](http://www.antarcticglaciers.org/glaciers-and-climate/numerical-ice-sheet-models/modelling-glacier-melt/). It relies on the assumption that melt occurs when air temperature is above the melting point.\n",
    "\n",
    "**Compute the daily averages of air temperature and select the days with temperature above zero. When do they occur? Count the number of days with average temperature above zero. Discuss.**"
   ]
  },
  {
   "cell_type": "code",
   "execution_count": null,
   "metadata": {
    "collapsed": true
   },
   "outputs": [],
   "source": [
    "# Averages\n",
    "dailytemp = df['TEMP'].resample('D').mean()"
   ]
  },
  {
   "cell_type": "code",
   "execution_count": null,
   "metadata": {
    "collapsed": false
   },
   "outputs": [],
   "source": [
    "# For the plot its better to crop than select (you couldn't know that)\n",
    "dailytemp.loc[dailytemp < 0] = np.NaN\n",
    "dailytemp.plot();"
   ]
  },
  {
   "cell_type": "code",
   "execution_count": null,
   "metadata": {
    "collapsed": false
   },
   "outputs": [],
   "source": [
    "# count\n",
    "ndays = len(dailytemp.loc[dailytemp > 0])\n",
    "totdays = len(dailytemp)\n",
    "print('{} days out of {} have a daily average above 0°C'.format(ndays, totdays))"
   ]
  },
  {
   "cell_type": "code",
   "execution_count": null,
   "metadata": {
    "collapsed": true
   },
   "outputs": [],
   "source": []
  }
 ],
 "metadata": {
  "kernelspec": {
   "display_name": "Python 3",
   "language": "python",
   "name": "python3"
  },
  "language_info": {
   "codemirror_mode": {
    "name": "ipython",
    "version": 3
   },
   "file_extension": ".py",
   "mimetype": "text/x-python",
   "name": "python",
   "nbconvert_exporter": "python",
   "pygments_lexer": "ipython3",
   "version": "3.4.3"
  }
 },
 "nbformat": 4,
 "nbformat_minor": 0
}
