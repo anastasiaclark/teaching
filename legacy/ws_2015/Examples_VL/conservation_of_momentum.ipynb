{
 "cells": [
  {
   "cell_type": "markdown",
   "metadata": {},
   "source": [
    "# Conservation of angular momentum and Hadley circulation"
   ]
  },
  {
   "cell_type": "code",
   "execution_count": null,
   "metadata": {
    "collapsed": false
   },
   "outputs": [],
   "source": [
    "# This is to display the plots in the notebook \n",
    "%matplotlib inline\n",
    "# These are the modules we need\n",
    "import numpy as np\n",
    "import matplotlib.pyplot as plt\n",
    "# This is to make the plots prettier\n",
    "import seaborn as sns\n",
    "sns.set(context='poster', style='ticks')\n",
    "# This is for printing latex\n",
    "from IPython.display import display, Math, Latex\n",
    "platex = lambda s: display(Math(s))"
   ]
  },
  {
   "cell_type": "markdown",
   "metadata": {},
   "source": [
    "<img src=\"https://dl.dropboxusercontent.com/u/20930277/f08-03-P558691.jpg\" width=\"30%\"  align=\"left\">"
   ]
  },
  {
   "cell_type": "markdown",
   "metadata": {},
   "source": [
    "Angular momentum: \n",
    "    \n",
    "$A = \\Omega r^2 + u r$ \n",
    "\n",
    "since $r = a \\cos \\varphi$:\n",
    "\n",
    "$A = \\Omega a^2 \\cos^2 \\varphi + u a \\cos \\varphi$\n",
    "\n",
    "If the parcel is not moving at the equator then $u = 0$ and $A_{Eq} = \\Omega a^2$\n",
    "\n",
    "Then, conservation of momentum implies:\n",
    "\n",
    "$A = A_{Eq} = \\Omega a^2 = \\Omega a^2 \\cos^2 \\varphi + u a \\cos \\varphi$ at any $ \\varphi$.\n",
    "\n",
    "A little bit of mathematics imply:\n",
    "\n",
    "**$u(\\varphi) = \\Omega a \\frac{\\sin^2 \\varphi }{\\cos \\varphi }$**\n",
    "\n"
   ]
  },
  {
   "cell_type": "markdown",
   "metadata": {},
   "source": [
    "### Zonal velocity for a parcel that would move from the equator to the pole whilst conserving momentum:"
   ]
  },
  {
   "cell_type": "code",
   "execution_count": null,
   "metadata": {
    "collapsed": true
   },
   "outputs": [],
   "source": [
    "radius = 6371000.  # m\n",
    "angular_vel = 7.27e-5  # s-1"
   ]
  },
  {
   "cell_type": "code",
   "execution_count": null,
   "metadata": {
    "collapsed": true
   },
   "outputs": [],
   "source": [
    "def u(phi):\n",
    "    return angular_vel * radius * np.sin(phi)**2 / np.cos(phi)"
   ]
  },
  {
   "cell_type": "code",
   "execution_count": null,
   "metadata": {
    "collapsed": false
   },
   "outputs": [],
   "source": [
    "phi = np.linspace(0, np.pi/4, 100)"
   ]
  },
  {
   "cell_type": "code",
   "execution_count": null,
   "metadata": {
    "collapsed": false
   },
   "outputs": [],
   "source": [
    "plt.plot(np.rad2deg(phi), u(phi));\n",
    "plt.ylabel('Zonal velocity(m s$^{-1}$)')\n",
    "plt.xlabel('Longitude (degrees)');"
   ]
  },
  {
   "cell_type": "code",
   "execution_count": null,
   "metadata": {
    "collapsed": true
   },
   "outputs": [],
   "source": []
  }
 ],
 "metadata": {
  "kernelspec": {
   "display_name": "Python 3",
   "language": "python",
   "name": "python3"
  },
  "language_info": {
   "codemirror_mode": {
    "name": "ipython",
    "version": 3
   },
   "file_extension": ".py",
   "mimetype": "text/x-python",
   "name": "python",
   "nbconvert_exporter": "python",
   "pygments_lexer": "ipython3",
   "version": "3.4.3"
  }
 },
 "nbformat": 4,
 "nbformat_minor": 0
}
