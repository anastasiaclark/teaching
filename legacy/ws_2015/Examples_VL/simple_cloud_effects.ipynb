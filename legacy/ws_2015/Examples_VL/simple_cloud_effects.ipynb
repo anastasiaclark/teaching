{
 "cells": [
  {
   "cell_type": "markdown",
   "metadata": {},
   "source": [
    "## A (very) simple model for the effect of clouds on the planetary energy balance"
   ]
  },
  {
   "cell_type": "markdown",
   "metadata": {},
   "source": [
    "Author: fabien.maussion@uibk.ac.at"
   ]
  },
  {
   "cell_type": "code",
   "execution_count": null,
   "metadata": {
    "collapsed": false
   },
   "outputs": [],
   "source": [
    "# This is to display the plots in the notebook \n",
    "%matplotlib inline\n",
    "# These are the modules we need\n",
    "import numpy as np\n",
    "import matplotlib.pyplot as plt\n",
    "# This is to make the plots prettier\n",
    "import seaborn as sns\n",
    "sns.set(context='poster', style='ticks')\n",
    "# This is for printing latex\n",
    "from IPython.display import display, Math, Latex\n",
    "platex = lambda s: display(Math(s))"
   ]
  },
  {
   "cell_type": "markdown",
   "metadata": {},
   "source": [
    "We define some constants:"
   ]
  },
  {
   "cell_type": "code",
   "execution_count": null,
   "metadata": {
    "collapsed": true
   },
   "outputs": [],
   "source": [
    "s_0 = 1367  # Solar constant (W m-2)\n",
    "sigma = 5.670e-8  # Stefan–Boltzmann constant\n",
    "t_s = 288  # Average temperature of the Earth's surface (K)\n",
    "gamma = -6  # Lapse-rate in the atmoshpere (K km-1)\n",
    "surface_albedo = 0.12  # Albedo of the surface of the Earth"
   ]
  },
  {
   "cell_type": "markdown",
   "metadata": {},
   "source": [
    "To isolate the effect of clouds, we assume a very simple representation of the atmosphere as a simple column, free of other greenhouse gases and other clouds. The Temperature of the cloud would then be: \n",
    "\n",
    "$T_C = T_S + z \\Gamma$, \n",
    "\n",
    "with $z$ the cloud altitude (km) and $\\Gamma$ the lapse-rate. For example at 2 km height:"
   ]
  },
  {
   "cell_type": "code",
   "execution_count": null,
   "metadata": {
    "collapsed": false
   },
   "outputs": [],
   "source": [
    "t_c = t_s + 2 * gamma\n",
    "platex('T_C = {} K'.format(t_c))"
   ]
  },
  {
   "cell_type": "markdown",
   "metadata": {},
   "source": [
    "Now assume that the cloud absorbs all the IR radiation emited by the surface (a reasonable approximation), while emmitting IR back to space according to its temperature. So the total energy change of the climate system in the longwave spectrum would be:\n",
    "\n",
    "$\\Delta E_{LW} = \\sigma T_S^4 - \\sigma T_C^4$"
   ]
  },
  {
   "cell_type": "code",
   "execution_count": null,
   "metadata": {
    "collapsed": false
   },
   "outputs": [],
   "source": [
    "e_lw = sigma * t_s**4 - sigma * t_c**4\n",
    "platex('\\Delta E_{{LW}} = {0:.1f} W m^{{-2}}'.format(e_lw))"
   ]
  },
  {
   "cell_type": "markdown",
   "metadata": {},
   "source": [
    "Which is positive and an energy gain for the system. Now consider the shortwave effects of the cloud if it has an albedo of 0.5. The net difference for the climate system is simply the increased loss in solar energy because of an increased reflection:\n",
    "\n",
    "$\\Delta E_{SW} = - S_0 / 4 \\cdot (\\alpha _{Cloud} - \\alpha _{Earth} ) $"
   ]
  },
  {
   "cell_type": "code",
   "execution_count": null,
   "metadata": {
    "collapsed": false
   },
   "outputs": [],
   "source": [
    "e_sw = - s_0 / 4 * (0.5 - surface_albedo)\n",
    "platex('\\Delta E_{{SW}} = {0:.1f} W m^{{-2}}'.format(e_sw))"
   ]
  },
  {
   "cell_type": "markdown",
   "metadata": {},
   "source": [
    "So that the net energy difference for the climate system is:\n",
    "    \n",
    "$\\Delta E_{TOT} = \\Delta E_{SW} + \\Delta E_{LW}$"
   ]
  },
  {
   "cell_type": "code",
   "execution_count": null,
   "metadata": {
    "collapsed": false
   },
   "outputs": [],
   "source": [
    "e_tot = e_sw + e_lw\n",
    "platex('\\Delta E_{{TOT}} = {0:.1f} W m^{{-2}}'.format(e_tot))"
   ]
  },
  {
   "cell_type": "markdown",
   "metadata": {},
   "source": [
    "$\\rightarrow$ **Low-level** clouds are **cooling** the climate system"
   ]
  },
  {
   "cell_type": "markdown",
   "metadata": {},
   "source": [
    "### Let's automate things a bit"
   ]
  },
  {
   "cell_type": "markdown",
   "metadata": {},
   "source": [
    "We define a function that do these calculations for us:"
   ]
  },
  {
   "cell_type": "code",
   "execution_count": null,
   "metadata": {
    "collapsed": true
   },
   "outputs": [],
   "source": [
    "def cloud_effect(z, albedo=0.5):\n",
    "    \"\"\"Compute the effect of clouds as a function of the altitude z and the cloud albedo (default 0.5)\"\"\"\n",
    "    t_c = t_s + z * gamma\n",
    "    e_lw = sigma * t_s**4 - sigma * t_c**4\n",
    "    e_sw = - s_0 / 4 * (albedo - surface_albedo)\n",
    "    e_tot = e_sw + e_lw\n",
    "    return e_tot, e_lw, e_sw"
   ]
  },
  {
   "cell_type": "markdown",
   "metadata": {},
   "source": [
    "and apply it to a cloud which has an altitude of 10 km:"
   ]
  },
  {
   "cell_type": "code",
   "execution_count": null,
   "metadata": {
    "collapsed": false
   },
   "outputs": [],
   "source": [
    "e_tot, e_lw, e_sw = cloud_effect(10)\n",
    "platex('\\Delta E_{{LW}} = {0:.1f} W m^{{-2}}'.format(e_lw))\n",
    "platex('\\Delta E_{{SW}} = {0:.1f} W m^{{-2}}'.format(e_sw))\n",
    "platex('\\Delta E_{{TOT}} = {0:.1f} W m^{{-2}}'.format(e_tot))"
   ]
  },
  {
   "cell_type": "markdown",
   "metadata": {},
   "source": [
    "$\\rightarrow$ **High-level** clouds are **heating** the climate system"
   ]
  },
  {
   "cell_type": "markdown",
   "metadata": {},
   "source": [
    "### What about other albedo values and other altitudes?"
   ]
  },
  {
   "cell_type": "markdown",
   "metadata": {},
   "source": [
    "Let's compute the effect of clouds over all altitude ranges for albedo values of 0.3, 0.5 and 0.7 and plot it"
   ]
  },
  {
   "cell_type": "code",
   "execution_count": null,
   "metadata": {
    "collapsed": true
   },
   "outputs": [],
   "source": [
    "z = np.linspace(2, 10, 100)  # altitude range"
   ]
  },
  {
   "cell_type": "code",
   "execution_count": null,
   "metadata": {
    "collapsed": false
   },
   "outputs": [],
   "source": [
    "plt.plot(z, z*0, color='k', linestyle='--')\n",
    "plt.plot(z, cloud_effect(z, albedo=0.3)[0], label='Albedo=0.3')\n",
    "plt.plot(z, cloud_effect(z, albedo=0.5)[0], label='Albedo=0.5')\n",
    "plt.plot(z, cloud_effect(z, albedo=0.7)[0], label='Albedo=0.7')\n",
    "plt.xlabel('Cloud altitude (km)')\n",
    "plt.ylabel('$\\Delta E$ (W m$^{-2}$)')\n",
    "plt.legend(loc='best');"
   ]
  },
  {
   "cell_type": "markdown",
   "metadata": {},
   "source": [
    "**$\\rightarrow$ with this simple model, low-level clouds are always an energy loss and high-level clouds an energy gain. The change from gain to loss is strongly dependent on the albedo.**\n",
    "\n",
    "If you complicate things a bit by noticing that high clouds have a low albedo and low clouds a high albedo while thick clouds have a high albedo but also a high cloud top you can imagine that the system becomes extremely sensitive.\n",
    "\n",
    "**The processes governing cloud albedo are extremely complex. The uncertainty about changes in the clouds frequency, altitude, and albedo are one of the highest uncertainty in the climate models.**"
   ]
  },
  {
   "cell_type": "markdown",
   "metadata": {},
   "source": [
    "<img src=\"http://www.earthgauge.net/wp-content/uploads/2012/05/Cloud_Rev_High1.jpg\" width=\"80%\"  align=\"left\">"
   ]
  },
  {
   "cell_type": "markdown",
   "metadata": {},
   "source": [
    "http://www.earthgauge.net/2012/climate-trivia-how-do-clouds-affect-earths-temperature"
   ]
  },
  {
   "cell_type": "code",
   "execution_count": null,
   "metadata": {
    "collapsed": true
   },
   "outputs": [],
   "source": []
  }
 ],
 "metadata": {
  "kernelspec": {
   "display_name": "Python 3",
   "language": "python",
   "name": "python3"
  },
  "language_info": {
   "codemirror_mode": {
    "name": "ipython",
    "version": 3
   },
   "file_extension": ".py",
   "mimetype": "text/x-python",
   "name": "python",
   "nbconvert_exporter": "python",
   "pygments_lexer": "ipython3",
   "version": "3.4.3"
  }
 },
 "nbformat": 4,
 "nbformat_minor": 0
}
